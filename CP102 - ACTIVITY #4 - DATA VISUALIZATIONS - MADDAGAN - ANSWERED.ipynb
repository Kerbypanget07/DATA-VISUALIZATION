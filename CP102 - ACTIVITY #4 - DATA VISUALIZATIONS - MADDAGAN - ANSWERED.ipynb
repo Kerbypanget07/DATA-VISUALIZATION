{
 "cells": [
  {
   "cell_type": "code",
   "execution_count": 56,
   "id": "e3bc6bb8",
   "metadata": {},
   "outputs": [
    {
     "data": {},
     "metadata": {},
     "output_type": "display_data"
    },
    {
     "data": {
      "application/vnd.holoviews_exec.v0+json": "",
      "text/html": [
       "<div id='4780'>\n",
       "  <div class=\"bk-root\" id=\"8c13f085-bc88-43cf-a9a4-bf2aedfe97a0\" data-root-id=\"4780\"></div>\n",
       "</div>\n",
       "<script type=\"application/javascript\">(function(root) {\n",
       "  function embed_document(root) {\n",
       "    var docs_json = {\"7abc7834-82b7-462f-a699-38aff33f9bd0\":{\"defs\":[{\"extends\":null,\"module\":null,\"name\":\"ReactiveHTML1\",\"overrides\":[],\"properties\":[]},{\"extends\":null,\"module\":null,\"name\":\"FlexBox1\",\"overrides\":[],\"properties\":[{\"default\":\"flex-start\",\"kind\":null,\"name\":\"align_content\"},{\"default\":\"flex-start\",\"kind\":null,\"name\":\"align_items\"},{\"default\":\"row\",\"kind\":null,\"name\":\"flex_direction\"},{\"default\":\"wrap\",\"kind\":null,\"name\":\"flex_wrap\"},{\"default\":\"flex-start\",\"kind\":null,\"name\":\"justify_content\"}]},{\"extends\":null,\"module\":null,\"name\":\"GridStack1\",\"overrides\":[],\"properties\":[{\"default\":\"warn\",\"kind\":null,\"name\":\"mode\"},{\"default\":null,\"kind\":null,\"name\":\"ncols\"},{\"default\":null,\"kind\":null,\"name\":\"nrows\"},{\"default\":true,\"kind\":null,\"name\":\"allow_resize\"},{\"default\":true,\"kind\":null,\"name\":\"allow_drag\"},{\"default\":[],\"kind\":null,\"name\":\"state\"}]},{\"extends\":null,\"module\":null,\"name\":\"click1\",\"overrides\":[],\"properties\":[{\"default\":\"\",\"kind\":null,\"name\":\"terminal_output\"},{\"default\":\"\",\"kind\":null,\"name\":\"debug_name\"},{\"default\":0,\"kind\":null,\"name\":\"clears\"}]},{\"extends\":null,\"module\":null,\"name\":\"NotificationAreaBase1\",\"overrides\":[],\"properties\":[{\"default\":\"bottom-right\",\"kind\":null,\"name\":\"position\"},{\"default\":0,\"kind\":null,\"name\":\"_clear\"}]},{\"extends\":null,\"module\":null,\"name\":\"NotificationArea1\",\"overrides\":[],\"properties\":[{\"default\":[],\"kind\":null,\"name\":\"notifications\"},{\"default\":\"bottom-right\",\"kind\":null,\"name\":\"position\"},{\"default\":0,\"kind\":null,\"name\":\"_clear\"},{\"default\":[{\"background\":\"#ffc107\",\"icon\":{\"className\":\"fas fa-exclamation-triangle\",\"color\":\"white\",\"tagName\":\"i\"},\"type\":\"warning\"},{\"background\":\"#007bff\",\"icon\":{\"className\":\"fas fa-info-circle\",\"color\":\"white\",\"tagName\":\"i\"},\"type\":\"info\"}],\"kind\":null,\"name\":\"types\"}]},{\"extends\":null,\"module\":null,\"name\":\"Notification\",\"overrides\":[],\"properties\":[{\"default\":null,\"kind\":null,\"name\":\"background\"},{\"default\":3000,\"kind\":null,\"name\":\"duration\"},{\"default\":null,\"kind\":null,\"name\":\"icon\"},{\"default\":\"\",\"kind\":null,\"name\":\"message\"},{\"default\":null,\"kind\":null,\"name\":\"notification_type\"},{\"default\":false,\"kind\":null,\"name\":\"_destroyed\"}]},{\"extends\":null,\"module\":null,\"name\":\"TemplateActions1\",\"overrides\":[],\"properties\":[{\"default\":0,\"kind\":null,\"name\":\"open_modal\"},{\"default\":0,\"kind\":null,\"name\":\"close_modal\"}]},{\"extends\":null,\"module\":null,\"name\":\"MaterialTemplateActions1\",\"overrides\":[],\"properties\":[{\"default\":0,\"kind\":null,\"name\":\"open_modal\"},{\"default\":0,\"kind\":null,\"name\":\"close_modal\"}]}],\"roots\":{\"references\":[{\"attributes\":{},\"id\":\"4827\",\"type\":\"BasicTickFormatter\"},{\"attributes\":{},\"id\":\"4792\",\"type\":\"LinearScale\"},{\"attributes\":{\"coordinates\":null,\"group\":null,\"text\":\"Worldwide average Suicide Cases by Age Group based on suicides/100k pop\",\"text_color\":\"black\",\"text_font_size\":\"12pt\"},\"id\":\"4786\",\"type\":\"Title\"},{\"attributes\":{\"axis\":{\"id\":\"4794\"},\"coordinates\":null,\"grid_line_color\":null,\"group\":null,\"ticker\":null},\"id\":\"4796\",\"type\":\"Grid\"},{\"attributes\":{\"axis_label\":\"Age Group 15 - 100 years\",\"coordinates\":null,\"formatter\":{\"id\":\"4824\"},\"group\":null,\"major_label_policy\":{\"id\":\"4825\"},\"ticker\":{\"id\":\"4795\"}},\"id\":\"4794\",\"type\":\"CategoricalAxis\"},{\"attributes\":{},\"id\":\"4802\",\"type\":\"PanTool\"},{\"attributes\":{},\"id\":\"4836\",\"type\":\"UnionRenderers\"},{\"attributes\":{},\"id\":\"4795\",\"type\":\"CategoricalTicker\"},{\"attributes\":{},\"id\":\"4824\",\"type\":\"CategoricalTickFormatter\"},{\"attributes\":{\"fill_color\":{\"value\":\"#30a2da\"},\"hatch_color\":{\"value\":\"#30a2da\"},\"top\":{\"field\":\"suicides_over_100k_pop\"},\"width\":{\"value\":0.8},\"x\":{\"field\":\"age\"}},\"id\":\"4817\",\"type\":\"VBar\"},{\"attributes\":{\"axis_label\":\"Suicides Per 100k Population Count\",\"coordinates\":null,\"formatter\":{\"id\":\"4827\"},\"group\":null,\"major_label_policy\":{\"id\":\"4828\"},\"ticker\":{\"id\":\"4798\"}},\"id\":\"4797\",\"type\":\"LinearAxis\"},{\"attributes\":{\"axis\":{\"id\":\"4797\"},\"coordinates\":null,\"dimension\":1,\"grid_line_color\":null,\"group\":null,\"ticker\":null},\"id\":\"4800\",\"type\":\"Grid\"},{\"attributes\":{},\"id\":\"4798\",\"type\":\"BasicTicker\"},{\"attributes\":{},\"id\":\"4828\",\"type\":\"AllLabels\"},{\"attributes\":{},\"id\":\"4803\",\"type\":\"WheelZoomTool\"},{\"attributes\":{\"margin\":[5,5,5,5],\"name\":\"HSpacer05279\",\"sizing_mode\":\"stretch_width\"},\"id\":\"4839\",\"type\":\"Spacer\"},{\"attributes\":{\"margin\":[5,5,5,5],\"name\":\"HSpacer05278\",\"sizing_mode\":\"stretch_width\"},\"id\":\"4781\",\"type\":\"Spacer\"},{\"attributes\":{},\"id\":\"4801\",\"type\":\"SaveTool\"},{\"attributes\":{\"factors\":[\"15-24 years\",\"25-34 years\",\"35-54 years\",\"5-14 years\",\"55-74 years\",\"75+ years\"],\"tags\":[[[\"age\",\"age\",null]]]},\"id\":\"4782\",\"type\":\"FactorRange\"},{\"attributes\":{\"overlay\":{\"id\":\"4806\"}},\"id\":\"4804\",\"type\":\"BoxZoomTool\"},{\"attributes\":{},\"id\":\"4805\",\"type\":\"ResetTool\"},{\"attributes\":{\"bottom_units\":\"screen\",\"coordinates\":null,\"fill_alpha\":0.5,\"fill_color\":\"lightgrey\",\"group\":null,\"left_units\":\"screen\",\"level\":\"overlay\",\"line_alpha\":1.0,\"line_color\":\"black\",\"line_dash\":[4,4],\"line_width\":2,\"right_units\":\"screen\",\"syncable\":false,\"top_units\":\"screen\"},\"id\":\"4806\",\"type\":\"BoxAnnotation\"},{\"attributes\":{},\"id\":\"4825\",\"type\":\"AllLabels\"},{\"attributes\":{\"tools\":[{\"id\":\"4784\"},{\"id\":\"4801\"},{\"id\":\"4802\"},{\"id\":\"4803\"},{\"id\":\"4804\"},{\"id\":\"4805\"}]},\"id\":\"4807\",\"type\":\"Toolbar\"},{\"attributes\":{\"bottom\":{\"value\":0},\"fill_alpha\":{\"value\":1.0},\"fill_color\":{\"value\":\"#30a2da\"},\"hatch_alpha\":{\"value\":1.0},\"hatch_color\":{\"value\":\"#30a2da\"},\"hatch_scale\":{\"value\":12.0},\"hatch_weight\":{\"value\":1.0},\"line_alpha\":{\"value\":1.0},\"line_cap\":{\"value\":\"butt\"},\"line_color\":{\"value\":\"black\"},\"line_dash\":{\"value\":[]},\"line_dash_offset\":{\"value\":0},\"line_join\":{\"value\":\"bevel\"},\"line_width\":{\"value\":1},\"top\":{\"field\":\"suicides_over_100k_pop\"},\"width\":{\"value\":0.8},\"x\":{\"field\":\"age\"}},\"id\":\"4822\",\"type\":\"VBar\"},{\"attributes\":{\"children\":[{\"id\":\"4781\"},{\"id\":\"4785\"},{\"id\":\"4839\"}],\"margin\":[0,0,0,0],\"name\":\"Row05274\",\"tags\":[\"embedded\"]},\"id\":\"4780\",\"type\":\"Row\"},{\"attributes\":{\"fill_alpha\":{\"value\":0.2},\"fill_color\":{\"value\":\"#30a2da\"},\"hatch_alpha\":{\"value\":0.2},\"hatch_color\":{\"value\":\"#30a2da\"},\"line_alpha\":{\"value\":0.2},\"top\":{\"field\":\"suicides_over_100k_pop\"},\"width\":{\"value\":0.8},\"x\":{\"field\":\"age\"}},\"id\":\"4819\",\"type\":\"VBar\"},{\"attributes\":{\"coordinates\":null,\"data_source\":{\"id\":\"4814\"},\"glyph\":{\"id\":\"4817\"},\"group\":null,\"hover_glyph\":null,\"muted_glyph\":{\"id\":\"4819\"},\"nonselection_glyph\":{\"id\":\"4818\"},\"selection_glyph\":{\"id\":\"4822\"},\"view\":{\"id\":\"4821\"}},\"id\":\"4820\",\"type\":\"GlyphRenderer\"},{\"attributes\":{\"data\":{\"age\":[\"15-24 years\",\"25-34 years\",\"35-54 years\",\"5-14 years\",\"55-74 years\",\"75+ years\"],\"suicides_over_100k_pop\":{\"__ndarray__\":\"zUurZvHkIUDipMtir18oQPqJf/QW5S1AeNJwrGDX4z/5V7wO1CcwQA//TLSV9DdA\",\"dtype\":\"float64\",\"order\":\"little\",\"shape\":[6]}},\"selected\":{\"id\":\"4815\"},\"selection_policy\":{\"id\":\"4836\"}},\"id\":\"4814\",\"type\":\"ColumnDataSource\"},{\"attributes\":{\"end\":26.28894611549177,\"reset_end\":26.28894611549177,\"reset_start\":0.0,\"tags\":[[[\"suicides/100k pop\",\"suicides/100k pop\",null]]]},\"id\":\"4783\",\"type\":\"Range1d\"},{\"attributes\":{},\"id\":\"4815\",\"type\":\"Selection\"},{\"attributes\":{\"below\":[{\"id\":\"4794\"}],\"center\":[{\"id\":\"4796\"},{\"id\":\"4800\"}],\"height\":300,\"left\":[{\"id\":\"4797\"}],\"margin\":[5,5,5,5],\"min_border_bottom\":10,\"min_border_left\":10,\"min_border_right\":10,\"min_border_top\":10,\"renderers\":[{\"id\":\"4820\"}],\"sizing_mode\":\"fixed\",\"title\":{\"id\":\"4786\"},\"toolbar\":{\"id\":\"4807\"},\"width\":700,\"x_range\":{\"id\":\"4782\"},\"x_scale\":{\"id\":\"4790\"},\"y_range\":{\"id\":\"4783\"},\"y_scale\":{\"id\":\"4792\"}},\"id\":\"4785\",\"subtype\":\"Figure\",\"type\":\"Plot\"},{\"attributes\":{\"fill_alpha\":{\"value\":0.1},\"fill_color\":{\"value\":\"#30a2da\"},\"hatch_alpha\":{\"value\":0.1},\"hatch_color\":{\"value\":\"#30a2da\"},\"line_alpha\":{\"value\":0.1},\"top\":{\"field\":\"suicides_over_100k_pop\"},\"width\":{\"value\":0.8},\"x\":{\"field\":\"age\"}},\"id\":\"4818\",\"type\":\"VBar\"},{\"attributes\":{\"callback\":null,\"renderers\":[{\"id\":\"4820\"}],\"tags\":[\"hv_created\"],\"tooltips\":[[\"age\",\"@{age}\"],[\"suicides/100k pop\",\"@{suicides_over_100k_pop}\"]]},\"id\":\"4784\",\"type\":\"HoverTool\"},{\"attributes\":{},\"id\":\"4790\",\"type\":\"CategoricalScale\"},{\"attributes\":{\"source\":{\"id\":\"4814\"}},\"id\":\"4821\",\"type\":\"CDSView\"}],\"root_ids\":[\"4780\"]},\"title\":\"Bokeh Application\",\"version\":\"2.4.3\"}};\n",
       "    var render_items = [{\"docid\":\"7abc7834-82b7-462f-a699-38aff33f9bd0\",\"root_ids\":[\"4780\"],\"roots\":{\"4780\":\"8c13f085-bc88-43cf-a9a4-bf2aedfe97a0\"}}];\n",
       "    root.Bokeh.embed.embed_items_notebook(docs_json, render_items);\n",
       "  }\n",
       "  if (root.Bokeh !== undefined && root.Bokeh.Panel !== undefined) {\n",
       "    embed_document(root);\n",
       "  } else {\n",
       "    var attempts = 0;\n",
       "    var timer = setInterval(function(root) {\n",
       "      if (root.Bokeh !== undefined && root.Bokeh.Panel !== undefined) {\n",
       "        clearInterval(timer);\n",
       "        embed_document(root);\n",
       "      } else if (document.readyState == \"complete\") {\n",
       "        attempts++;\n",
       "        if (attempts > 200) {\n",
       "          clearInterval(timer);\n",
       "          console.log(\"Bokeh: ERROR: Unable to run BokehJS code because BokehJS library is missing\");\n",
       "        }\n",
       "      }\n",
       "    }, 25, root)\n",
       "  }\n",
       "})(window);</script>"
      ],
      "text/plain": [
       ":Bars   [age]   (suicides/100k pop)"
      ]
     },
     "execution_count": 56,
     "metadata": {
      "application/vnd.holoviews_exec.v0+json": {
       "id": "4780"
      }
     },
     "output_type": "execute_result"
    }
   ],
   "source": [
    "#My Code for Letter A\n",
    "\n",
    "import pandas as pd\n",
    "import hvplot.pandas\n",
    "\n",
    "a = pd.read_csv(\"suicide.csv\")\n",
    "a1 = a.groupby(\"age\")[\"suicides/100k pop\"].mean()\n",
    "a1.hvplot(kind=\"bar\",title=\"Worldwide average Suicide Cases by Age Group based on suicides/100k pop\",xlabel=\"Age Group 15 - 100 years\",ylabel=\"Suicides Per 100k Population Count\")"
   ]
  },
  {
   "cell_type": "code",
   "execution_count": 58,
   "id": "65e230b1",
   "metadata": {},
   "outputs": [
    {
     "data": {},
     "metadata": {},
     "output_type": "display_data"
    },
    {
     "data": {
      "application/vnd.holoviews_exec.v0+json": "",
      "text/html": [
       "<div id='5003'>\n",
       "  <div class=\"bk-root\" id=\"dc215c8d-992d-4d3d-a697-aaa85db0a1d3\" data-root-id=\"5003\"></div>\n",
       "</div>\n",
       "<script type=\"application/javascript\">(function(root) {\n",
       "  function embed_document(root) {\n",
       "    var docs_json = {\"9d90058b-3226-418a-9421-3b56097a148c\":{\"defs\":[{\"extends\":null,\"module\":null,\"name\":\"ReactiveHTML1\",\"overrides\":[],\"properties\":[]},{\"extends\":null,\"module\":null,\"name\":\"FlexBox1\",\"overrides\":[],\"properties\":[{\"default\":\"flex-start\",\"kind\":null,\"name\":\"align_content\"},{\"default\":\"flex-start\",\"kind\":null,\"name\":\"align_items\"},{\"default\":\"row\",\"kind\":null,\"name\":\"flex_direction\"},{\"default\":\"wrap\",\"kind\":null,\"name\":\"flex_wrap\"},{\"default\":\"flex-start\",\"kind\":null,\"name\":\"justify_content\"}]},{\"extends\":null,\"module\":null,\"name\":\"GridStack1\",\"overrides\":[],\"properties\":[{\"default\":\"warn\",\"kind\":null,\"name\":\"mode\"},{\"default\":null,\"kind\":null,\"name\":\"ncols\"},{\"default\":null,\"kind\":null,\"name\":\"nrows\"},{\"default\":true,\"kind\":null,\"name\":\"allow_resize\"},{\"default\":true,\"kind\":null,\"name\":\"allow_drag\"},{\"default\":[],\"kind\":null,\"name\":\"state\"}]},{\"extends\":null,\"module\":null,\"name\":\"click1\",\"overrides\":[],\"properties\":[{\"default\":\"\",\"kind\":null,\"name\":\"terminal_output\"},{\"default\":\"\",\"kind\":null,\"name\":\"debug_name\"},{\"default\":0,\"kind\":null,\"name\":\"clears\"}]},{\"extends\":null,\"module\":null,\"name\":\"NotificationAreaBase1\",\"overrides\":[],\"properties\":[{\"default\":\"bottom-right\",\"kind\":null,\"name\":\"position\"},{\"default\":0,\"kind\":null,\"name\":\"_clear\"}]},{\"extends\":null,\"module\":null,\"name\":\"NotificationArea1\",\"overrides\":[],\"properties\":[{\"default\":[],\"kind\":null,\"name\":\"notifications\"},{\"default\":\"bottom-right\",\"kind\":null,\"name\":\"position\"},{\"default\":0,\"kind\":null,\"name\":\"_clear\"},{\"default\":[{\"background\":\"#ffc107\",\"icon\":{\"className\":\"fas fa-exclamation-triangle\",\"color\":\"white\",\"tagName\":\"i\"},\"type\":\"warning\"},{\"background\":\"#007bff\",\"icon\":{\"className\":\"fas fa-info-circle\",\"color\":\"white\",\"tagName\":\"i\"},\"type\":\"info\"}],\"kind\":null,\"name\":\"types\"}]},{\"extends\":null,\"module\":null,\"name\":\"Notification\",\"overrides\":[],\"properties\":[{\"default\":null,\"kind\":null,\"name\":\"background\"},{\"default\":3000,\"kind\":null,\"name\":\"duration\"},{\"default\":null,\"kind\":null,\"name\":\"icon\"},{\"default\":\"\",\"kind\":null,\"name\":\"message\"},{\"default\":null,\"kind\":null,\"name\":\"notification_type\"},{\"default\":false,\"kind\":null,\"name\":\"_destroyed\"}]},{\"extends\":null,\"module\":null,\"name\":\"TemplateActions1\",\"overrides\":[],\"properties\":[{\"default\":0,\"kind\":null,\"name\":\"open_modal\"},{\"default\":0,\"kind\":null,\"name\":\"close_modal\"}]},{\"extends\":null,\"module\":null,\"name\":\"MaterialTemplateActions1\",\"overrides\":[],\"properties\":[{\"default\":0,\"kind\":null,\"name\":\"open_modal\"},{\"default\":0,\"kind\":null,\"name\":\"close_modal\"}]}],\"roots\":{\"references\":[{\"attributes\":{\"axis_label\":\"Suicides Per 100k Population Count\",\"coordinates\":null,\"formatter\":{\"id\":\"5051\"},\"group\":null,\"major_label_policy\":{\"id\":\"5052\"},\"ticker\":{\"id\":\"5022\"}},\"id\":\"5021\",\"type\":\"LinearAxis\"},{\"attributes\":{\"axis\":{\"id\":\"5021\"},\"coordinates\":null,\"dimension\":1,\"grid_line_color\":null,\"group\":null,\"ticker\":null},\"id\":\"5024\",\"type\":\"Grid\"},{\"attributes\":{\"below\":[{\"id\":\"5017\"}],\"center\":[{\"id\":\"5020\"},{\"id\":\"5024\"}],\"height\":300,\"left\":[{\"id\":\"5021\"}],\"margin\":[5,5,5,5],\"min_border_bottom\":10,\"min_border_left\":10,\"min_border_right\":10,\"min_border_top\":10,\"renderers\":[{\"id\":\"5044\"}],\"sizing_mode\":\"fixed\",\"title\":{\"id\":\"5009\"},\"toolbar\":{\"id\":\"5031\"},\"width\":700,\"x_range\":{\"id\":\"5005\"},\"x_scale\":{\"id\":\"5013\"},\"y_range\":{\"id\":\"5006\"},\"y_scale\":{\"id\":\"5015\"}},\"id\":\"5008\",\"subtype\":\"Figure\",\"type\":\"Plot\"},{\"attributes\":{\"line_alpha\":0.2,\"line_color\":\"#30a2da\",\"line_width\":2,\"x\":{\"field\":\"year\"},\"y\":{\"field\":\"suicides/100k pop\"}},\"id\":\"5043\",\"type\":\"Line\"},{\"attributes\":{},\"id\":\"5022\",\"type\":\"BasicTicker\"},{\"attributes\":{\"line_alpha\":0.1,\"line_color\":\"#30a2da\",\"line_width\":2,\"x\":{\"field\":\"year\"},\"y\":{\"field\":\"suicides/100k pop\"}},\"id\":\"5042\",\"type\":\"Line\"},{\"attributes\":{},\"id\":\"5027\",\"type\":\"WheelZoomTool\"},{\"attributes\":{\"line_color\":\"#30a2da\",\"line_width\":2,\"x\":{\"field\":\"year\"},\"y\":{\"field\":\"suicides/100k pop\"}},\"id\":\"5041\",\"type\":\"Line\"},{\"attributes\":{\"source\":{\"id\":\"5038\"}},\"id\":\"5045\",\"type\":\"CDSView\"},{\"attributes\":{},\"id\":\"5025\",\"type\":\"SaveTool\"},{\"attributes\":{\"overlay\":{\"id\":\"5030\"}},\"id\":\"5028\",\"type\":\"BoxZoomTool\"},{\"attributes\":{\"line_color\":\"#30a2da\",\"line_width\":2,\"x\":{\"field\":\"year\"},\"y\":{\"field\":\"suicides/100k pop\"}},\"id\":\"5046\",\"type\":\"Line\"},{\"attributes\":{},\"id\":\"5029\",\"type\":\"ResetTool\"},{\"attributes\":{\"coordinates\":null,\"data_source\":{\"id\":\"5038\"},\"glyph\":{\"id\":\"5041\"},\"group\":null,\"hover_glyph\":null,\"muted_glyph\":{\"id\":\"5043\"},\"nonselection_glyph\":{\"id\":\"5042\"},\"selection_glyph\":{\"id\":\"5046\"},\"view\":{\"id\":\"5045\"}},\"id\":\"5044\",\"type\":\"GlyphRenderer\"},{\"attributes\":{\"bottom_units\":\"screen\",\"coordinates\":null,\"fill_alpha\":0.5,\"fill_color\":\"lightgrey\",\"group\":null,\"left_units\":\"screen\",\"level\":\"overlay\",\"line_alpha\":1.0,\"line_color\":\"black\",\"line_dash\":[4,4],\"line_width\":2,\"right_units\":\"screen\",\"syncable\":false,\"top_units\":\"screen\"},\"id\":\"5030\",\"type\":\"BoxAnnotation\"},{\"attributes\":{\"end\":16.127791666666667,\"reset_end\":16.127791666666667,\"reset_start\":10.546342948717948,\"start\":10.546342948717948,\"tags\":[[[\"suicides/100k pop\",\"suicides/100k pop\",null]]]},\"id\":\"5006\",\"type\":\"Range1d\"},{\"attributes\":{},\"id\":\"5048\",\"type\":\"BasicTickFormatter\"},{\"attributes\":{},\"id\":\"5051\",\"type\":\"BasicTickFormatter\"},{\"attributes\":{},\"id\":\"5039\",\"type\":\"Selection\"},{\"attributes\":{},\"id\":\"5013\",\"type\":\"LinearScale\"},{\"attributes\":{},\"id\":\"5049\",\"type\":\"AllLabels\"},{\"attributes\":{\"end\":2016.0,\"reset_end\":2016.0,\"reset_start\":1985.0,\"start\":1985.0,\"tags\":[[[\"year\",\"year\",null]]]},\"id\":\"5005\",\"type\":\"Range1d\"},{\"attributes\":{},\"id\":\"5060\",\"type\":\"UnionRenderers\"},{\"attributes\":{\"margin\":[5,5,5,5],\"name\":\"HSpacer05487\",\"sizing_mode\":\"stretch_width\"},\"id\":\"5004\",\"type\":\"Spacer\"},{\"attributes\":{},\"id\":\"5052\",\"type\":\"AllLabels\"},{\"attributes\":{\"tools\":[{\"id\":\"5007\"},{\"id\":\"5025\"},{\"id\":\"5026\"},{\"id\":\"5027\"},{\"id\":\"5028\"},{\"id\":\"5029\"}]},\"id\":\"5031\",\"type\":\"Toolbar\"},{\"attributes\":{\"callback\":null,\"renderers\":[{\"id\":\"5044\"}],\"tags\":[\"hv_created\"],\"tooltips\":[[\"year\",\"@{year}\"],[\"suicides/100k pop\",\"@{suicides_over_100k_pop}\"]]},\"id\":\"5007\",\"type\":\"HoverTool\"},{\"attributes\":{},\"id\":\"5015\",\"type\":\"LinearScale\"},{\"attributes\":{},\"id\":\"5026\",\"type\":\"PanTool\"},{\"attributes\":{\"coordinates\":null,\"group\":null,\"text\":\"Worldwide average suicide cases by year (1985-2016) based on suicides/100k pop\",\"text_color\":\"black\",\"text_font_size\":\"12pt\"},\"id\":\"5009\",\"type\":\"Title\"},{\"attributes\":{\"axis_label\":\"From the year 1985 - 2016\",\"coordinates\":null,\"formatter\":{\"id\":\"5048\"},\"group\":null,\"major_label_policy\":{\"id\":\"5049\"},\"ticker\":{\"id\":\"5018\"}},\"id\":\"5017\",\"type\":\"LinearAxis\"},{\"attributes\":{\"margin\":[5,5,5,5],\"name\":\"HSpacer05488\",\"sizing_mode\":\"stretch_width\"},\"id\":\"5063\",\"type\":\"Spacer\"},{\"attributes\":{\"children\":[{\"id\":\"5004\"},{\"id\":\"5008\"},{\"id\":\"5063\"}],\"margin\":[0,0,0,0],\"name\":\"Row05483\",\"tags\":[\"embedded\"]},\"id\":\"5003\",\"type\":\"Row\"},{\"attributes\":{\"axis\":{\"id\":\"5017\"},\"coordinates\":null,\"grid_line_color\":null,\"group\":null,\"ticker\":null},\"id\":\"5020\",\"type\":\"Grid\"},{\"attributes\":{\"data\":{\"suicides/100k pop\":{\"__ndarray__\":\"nTbQaQOnJ0BZ8oslv9gmQJ0rD0jWSSdA5wPYGTdrKUBV4r6HFcIpQFVVVVXVuSlAgU4b6LTgKkDf8UbLQ/8qQAtMCGbbqitAHbdQ6oMlLEBoFgCbSVMvQKtNWEhgnC5ANmocEaLoLUAYPXI8ldotQElfA05nEC1AWx89rvXhK0DVx1x9zAkrQAXFfru2kitA6/XWTPhoKkBswRZswfYoQEpx4eMKIyhAYebRI9zaJ0CUz7FA+QwoQGoYYEG80CdAfCHt4zPNJkBSpihlim4mQPCwg83bByZAUVuLb+vXJkCi/o1QRjcmQPdEHJHeBSZAgKQCSCowJkDO91PjpdcqQA==\",\"dtype\":\"float64\",\"order\":\"little\",\"shape\":[32]},\"suicides_over_100k_pop\":{\"__ndarray__\":\"nTbQaQOnJ0BZ8oslv9gmQJ0rD0jWSSdA5wPYGTdrKUBV4r6HFcIpQFVVVVXVuSlAgU4b6LTgKkDf8UbLQ/8qQAtMCGbbqitAHbdQ6oMlLEBoFgCbSVMvQKtNWEhgnC5ANmocEaLoLUAYPXI8ldotQElfA05nEC1AWx89rvXhK0DVx1x9zAkrQAXFfru2kitA6/XWTPhoKkBswRZswfYoQEpx4eMKIyhAYebRI9zaJ0CUz7FA+QwoQGoYYEG80CdAfCHt4zPNJkBSpihlim4mQPCwg83bByZAUVuLb+vXJkCi/o1QRjcmQPdEHJHeBSZAgKQCSCowJkDO91PjpdcqQA==\",\"dtype\":\"float64\",\"order\":\"little\",\"shape\":[32]},\"year\":[1985,1986,1987,1988,1989,1990,1991,1992,1993,1994,1995,1996,1997,1998,1999,2000,2001,2002,2003,2004,2005,2006,2007,2008,2009,2010,2011,2012,2013,2014,2015,2016]},\"selected\":{\"id\":\"5039\"},\"selection_policy\":{\"id\":\"5060\"}},\"id\":\"5038\",\"type\":\"ColumnDataSource\"},{\"attributes\":{},\"id\":\"5018\",\"type\":\"BasicTicker\"}],\"root_ids\":[\"5003\"]},\"title\":\"Bokeh Application\",\"version\":\"2.4.3\"}};\n",
       "    var render_items = [{\"docid\":\"9d90058b-3226-418a-9421-3b56097a148c\",\"root_ids\":[\"5003\"],\"roots\":{\"5003\":\"dc215c8d-992d-4d3d-a697-aaa85db0a1d3\"}}];\n",
       "    root.Bokeh.embed.embed_items_notebook(docs_json, render_items);\n",
       "  }\n",
       "  if (root.Bokeh !== undefined && root.Bokeh.Panel !== undefined) {\n",
       "    embed_document(root);\n",
       "  } else {\n",
       "    var attempts = 0;\n",
       "    var timer = setInterval(function(root) {\n",
       "      if (root.Bokeh !== undefined && root.Bokeh.Panel !== undefined) {\n",
       "        clearInterval(timer);\n",
       "        embed_document(root);\n",
       "      } else if (document.readyState == \"complete\") {\n",
       "        attempts++;\n",
       "        if (attempts > 200) {\n",
       "          clearInterval(timer);\n",
       "          console.log(\"Bokeh: ERROR: Unable to run BokehJS code because BokehJS library is missing\");\n",
       "        }\n",
       "      }\n",
       "    }, 25, root)\n",
       "  }\n",
       "})(window);</script>"
      ],
      "text/plain": [
       ":Curve   [year]   (suicides/100k pop)"
      ]
     },
     "execution_count": 58,
     "metadata": {
      "application/vnd.holoviews_exec.v0+json": {
       "id": "5003"
      }
     },
     "output_type": "execute_result"
    }
   ],
   "source": [
    "#My Code for Letter B\n",
    "\n",
    "import pandas as pd\n",
    "import hvplot.pandas as hv\n",
    "\n",
    "b = pd.read_csv('suicide.csv')\n",
    "b = b[(b['year'] >= 1985) & (b['year'] <= 2016)]\n",
    "b1 = b.groupby('year')['suicides/100k pop'].mean()\n",
    "b1.hvplot(kind=\"line\",title='Worldwide average suicide cases by year (1985-2016) based on suicides/100k pop',xlabel='From the year 1985 - 2016', ylabel='Suicides Per 100k Population Count')"
   ]
  },
  {
   "cell_type": "code",
   "execution_count": 61,
   "id": "504cf437",
   "metadata": {},
   "outputs": [
    {
     "data": {},
     "metadata": {},
     "output_type": "display_data"
    },
    {
     "data": {
      "application/vnd.holoviews_exec.v0+json": "",
      "text/html": [
       "<div id='5337'>\n",
       "  <div class=\"bk-root\" id=\"e6f7f067-619e-4147-981c-d02b689b4335\" data-root-id=\"5337\"></div>\n",
       "</div>\n",
       "<script type=\"application/javascript\">(function(root) {\n",
       "  function embed_document(root) {\n",
       "    var docs_json = {\"3b2a084b-78cc-41c5-8c85-bf3daf063158\":{\"defs\":[{\"extends\":null,\"module\":null,\"name\":\"ReactiveHTML1\",\"overrides\":[],\"properties\":[]},{\"extends\":null,\"module\":null,\"name\":\"FlexBox1\",\"overrides\":[],\"properties\":[{\"default\":\"flex-start\",\"kind\":null,\"name\":\"align_content\"},{\"default\":\"flex-start\",\"kind\":null,\"name\":\"align_items\"},{\"default\":\"row\",\"kind\":null,\"name\":\"flex_direction\"},{\"default\":\"wrap\",\"kind\":null,\"name\":\"flex_wrap\"},{\"default\":\"flex-start\",\"kind\":null,\"name\":\"justify_content\"}]},{\"extends\":null,\"module\":null,\"name\":\"GridStack1\",\"overrides\":[],\"properties\":[{\"default\":\"warn\",\"kind\":null,\"name\":\"mode\"},{\"default\":null,\"kind\":null,\"name\":\"ncols\"},{\"default\":null,\"kind\":null,\"name\":\"nrows\"},{\"default\":true,\"kind\":null,\"name\":\"allow_resize\"},{\"default\":true,\"kind\":null,\"name\":\"allow_drag\"},{\"default\":[],\"kind\":null,\"name\":\"state\"}]},{\"extends\":null,\"module\":null,\"name\":\"click1\",\"overrides\":[],\"properties\":[{\"default\":\"\",\"kind\":null,\"name\":\"terminal_output\"},{\"default\":\"\",\"kind\":null,\"name\":\"debug_name\"},{\"default\":0,\"kind\":null,\"name\":\"clears\"}]},{\"extends\":null,\"module\":null,\"name\":\"NotificationAreaBase1\",\"overrides\":[],\"properties\":[{\"default\":\"bottom-right\",\"kind\":null,\"name\":\"position\"},{\"default\":0,\"kind\":null,\"name\":\"_clear\"}]},{\"extends\":null,\"module\":null,\"name\":\"NotificationArea1\",\"overrides\":[],\"properties\":[{\"default\":[],\"kind\":null,\"name\":\"notifications\"},{\"default\":\"bottom-right\",\"kind\":null,\"name\":\"position\"},{\"default\":0,\"kind\":null,\"name\":\"_clear\"},{\"default\":[{\"background\":\"#ffc107\",\"icon\":{\"className\":\"fas fa-exclamation-triangle\",\"color\":\"white\",\"tagName\":\"i\"},\"type\":\"warning\"},{\"background\":\"#007bff\",\"icon\":{\"className\":\"fas fa-info-circle\",\"color\":\"white\",\"tagName\":\"i\"},\"type\":\"info\"}],\"kind\":null,\"name\":\"types\"}]},{\"extends\":null,\"module\":null,\"name\":\"Notification\",\"overrides\":[],\"properties\":[{\"default\":null,\"kind\":null,\"name\":\"background\"},{\"default\":3000,\"kind\":null,\"name\":\"duration\"},{\"default\":null,\"kind\":null,\"name\":\"icon\"},{\"default\":\"\",\"kind\":null,\"name\":\"message\"},{\"default\":null,\"kind\":null,\"name\":\"notification_type\"},{\"default\":false,\"kind\":null,\"name\":\"_destroyed\"}]},{\"extends\":null,\"module\":null,\"name\":\"TemplateActions1\",\"overrides\":[],\"properties\":[{\"default\":0,\"kind\":null,\"name\":\"open_modal\"},{\"default\":0,\"kind\":null,\"name\":\"close_modal\"}]},{\"extends\":null,\"module\":null,\"name\":\"MaterialTemplateActions1\",\"overrides\":[],\"properties\":[{\"default\":0,\"kind\":null,\"name\":\"open_modal\"},{\"default\":0,\"kind\":null,\"name\":\"close_modal\"}]}],\"roots\":{\"references\":[{\"attributes\":{},\"id\":\"5384\",\"type\":\"CategoricalTickFormatter\"},{\"attributes\":{\"bottom_units\":\"screen\",\"coordinates\":null,\"fill_alpha\":0.5,\"fill_color\":\"lightgrey\",\"group\":null,\"left_units\":\"screen\",\"level\":\"overlay\",\"line_alpha\":1.0,\"line_color\":\"black\",\"line_dash\":[4,4],\"line_width\":2,\"right_units\":\"screen\",\"syncable\":false,\"top_units\":\"screen\"},\"id\":\"5363\",\"type\":\"BoxAnnotation\"},{\"attributes\":{},\"id\":\"5382\",\"type\":\"AllLabels\"},{\"attributes\":{\"margin\":[5,5,5,5],\"name\":\"HSpacer05861\",\"sizing_mode\":\"stretch_width\"},\"id\":\"5396\",\"type\":\"Spacer\"},{\"attributes\":{\"factors\":[\"Russian Federation\",\"Lithuania\",\"Hungary\",\"Kazakhstan\",\"Republic of Korea\",\"Austria\",\"Ukraine\",\"Japan\",\"Finland\",\"Belgium\"],\"tags\":[[[\"country\",\"country\",null]]]},\"id\":\"5340\",\"type\":\"FactorRange\"},{\"attributes\":{},\"id\":\"5372\",\"type\":\"Selection\"},{\"attributes\":{},\"id\":\"5385\",\"type\":\"AllLabels\"},{\"attributes\":{\"margin\":[5,5,5,5],\"name\":\"HSpacer05860\",\"sizing_mode\":\"stretch_width\"},\"id\":\"5338\",\"type\":\"Spacer\"},{\"attributes\":{},\"id\":\"5349\",\"type\":\"CategoricalScale\"},{\"attributes\":{\"tools\":[{\"id\":\"5341\"},{\"id\":\"5358\"},{\"id\":\"5359\"},{\"id\":\"5360\"},{\"id\":\"5361\"},{\"id\":\"5362\"}]},\"id\":\"5364\",\"type\":\"Toolbar\"},{\"attributes\":{\"callback\":null,\"renderers\":[{\"id\":\"5377\"}],\"tags\":[\"hv_created\"],\"tooltips\":[[\"country\",\"@{country}\"],[\"suicides/100k pop\",\"@{suicides_over_100k_pop}\"]]},\"id\":\"5341\",\"type\":\"HoverTool\"},{\"attributes\":{\"fill_alpha\":{\"value\":1.0},\"fill_color\":{\"value\":\"#30a2da\"},\"hatch_alpha\":{\"value\":1.0},\"hatch_color\":{\"value\":\"#30a2da\"},\"hatch_scale\":{\"value\":12.0},\"hatch_weight\":{\"value\":1.0},\"height\":{\"value\":0.8},\"left\":{\"value\":0},\"line_alpha\":{\"value\":1.0},\"line_cap\":{\"value\":\"butt\"},\"line_color\":{\"value\":\"black\"},\"line_dash\":{\"value\":[]},\"line_dash_offset\":{\"value\":0},\"line_join\":{\"value\":\"bevel\"},\"line_width\":{\"value\":1},\"right\":{\"field\":\"suicides_over_100k_pop\"},\"y\":{\"field\":\"country\"}},\"id\":\"5379\",\"type\":\"HBar\"},{\"attributes\":{\"fill_color\":{\"value\":\"#30a2da\"},\"hatch_color\":{\"value\":\"#30a2da\"},\"height\":{\"value\":0.8},\"right\":{\"field\":\"suicides_over_100k_pop\"},\"y\":{\"field\":\"country\"}},\"id\":\"5374\",\"type\":\"HBar\"},{\"attributes\":{\"coordinates\":null,\"group\":null,\"text\":\"Top 10 countries with the highest suicide cases based on suicides/100k pop\",\"text_color\":\"black\",\"text_font_size\":\"12pt\"},\"id\":\"5343\",\"type\":\"Title\"},{\"attributes\":{\"below\":[{\"id\":\"5351\"}],\"center\":[{\"id\":\"5354\"},{\"id\":\"5357\"}],\"height\":300,\"left\":[{\"id\":\"5355\"}],\"margin\":[5,5,5,5],\"min_border_bottom\":10,\"min_border_left\":10,\"min_border_right\":10,\"min_border_top\":10,\"renderers\":[{\"id\":\"5377\"}],\"sizing_mode\":\"fixed\",\"title\":{\"id\":\"5343\"},\"toolbar\":{\"id\":\"5364\"},\"width\":700,\"x_range\":{\"id\":\"5339\"},\"x_scale\":{\"id\":\"5347\"},\"y_range\":{\"id\":\"5340\"},\"y_scale\":{\"id\":\"5349\"}},\"id\":\"5342\",\"subtype\":\"Figure\",\"type\":\"Plot\"},{\"attributes\":{\"source\":{\"id\":\"5371\"}},\"id\":\"5378\",\"type\":\"CDSView\"},{\"attributes\":{\"axis_label\":\"Suicides Per 100k Population Count\",\"coordinates\":null,\"formatter\":{\"id\":\"5381\"},\"group\":null,\"major_label_policy\":{\"id\":\"5382\"},\"ticker\":{\"id\":\"5352\"}},\"id\":\"5351\",\"type\":\"LinearAxis\"},{\"attributes\":{},\"id\":\"5359\",\"type\":\"PanTool\"},{\"attributes\":{\"axis\":{\"id\":\"5351\"},\"coordinates\":null,\"grid_line_color\":null,\"group\":null,\"ticker\":null},\"id\":\"5354\",\"type\":\"Grid\"},{\"attributes\":{\"coordinates\":null,\"data_source\":{\"id\":\"5371\"},\"glyph\":{\"id\":\"5374\"},\"group\":null,\"hover_glyph\":null,\"muted_glyph\":{\"id\":\"5376\"},\"nonselection_glyph\":{\"id\":\"5375\"},\"selection_glyph\":{\"id\":\"5379\"},\"view\":{\"id\":\"5378\"}},\"id\":\"5377\",\"type\":\"GlyphRenderer\"},{\"attributes\":{},\"id\":\"5352\",\"type\":\"BasicTicker\"},{\"attributes\":{\"fill_alpha\":{\"value\":0.2},\"fill_color\":{\"value\":\"#30a2da\"},\"hatch_alpha\":{\"value\":0.2},\"hatch_color\":{\"value\":\"#30a2da\"},\"height\":{\"value\":0.8},\"line_alpha\":{\"value\":0.2},\"right\":{\"field\":\"suicides_over_100k_pop\"},\"y\":{\"field\":\"country\"}},\"id\":\"5376\",\"type\":\"HBar\"},{\"attributes\":{},\"id\":\"5360\",\"type\":\"WheelZoomTool\"},{\"attributes\":{},\"id\":\"5393\",\"type\":\"UnionRenderers\"},{\"attributes\":{\"axis_label\":\"Countries - Descending Order\",\"coordinates\":null,\"formatter\":{\"id\":\"5384\"},\"group\":null,\"major_label_policy\":{\"id\":\"5385\"},\"ticker\":{\"id\":\"5356\"}},\"id\":\"5355\",\"type\":\"CategoricalAxis\"},{\"attributes\":{\"axis\":{\"id\":\"5355\"},\"coordinates\":null,\"dimension\":1,\"grid_line_color\":null,\"group\":null,\"ticker\":null},\"id\":\"5357\",\"type\":\"Grid\"},{\"attributes\":{\"children\":[{\"id\":\"5338\"},{\"id\":\"5342\"},{\"id\":\"5396\"}],\"margin\":[0,0,0,0],\"name\":\"Row05856\",\"tags\":[\"embedded\"]},\"id\":\"5337\",\"type\":\"Row\"},{\"attributes\":{},\"id\":\"5356\",\"type\":\"CategoricalTicker\"},{\"attributes\":{},\"id\":\"5347\",\"type\":\"LinearScale\"},{\"attributes\":{\"data\":{\"country\":[\"Russian Federation\",\"Lithuania\",\"Hungary\",\"Kazakhstan\",\"Republic of Korea\",\"Austria\",\"Ukraine\",\"Japan\",\"Finland\",\"Belgium\"],\"suicides_over_100k_pop\":{\"__ndarray__\":\"PQrXo5AUxkA9CtejcK7EQFyPwvUI1sNA9ihcj8KXwkCamZmZOUPCQArXo3AdusFArkfhetRxwUAUrkfhOlm/QI/C9Sgc9L5AAAAAAIDcvkA=\",\"dtype\":\"float64\",\"order\":\"little\",\"shape\":[10]}},\"selected\":{\"id\":\"5372\"},\"selection_policy\":{\"id\":\"5393\"}},\"id\":\"5371\",\"type\":\"ColumnDataSource\"},{\"attributes\":{\"fill_alpha\":{\"value\":0.1},\"fill_color\":{\"value\":\"#30a2da\"},\"hatch_alpha\":{\"value\":0.1},\"hatch_color\":{\"value\":\"#30a2da\"},\"height\":{\"value\":0.8},\"line_alpha\":{\"value\":0.1},\"right\":{\"field\":\"suicides_over_100k_pop\"},\"y\":{\"field\":\"country\"}},\"id\":\"5375\",\"type\":\"HBar\"},{\"attributes\":{},\"id\":\"5381\",\"type\":\"BasicTickFormatter\"},{\"attributes\":{},\"id\":\"5362\",\"type\":\"ResetTool\"},{\"attributes\":{},\"id\":\"5358\",\"type\":\"SaveTool\"},{\"attributes\":{\"overlay\":{\"id\":\"5363\"}},\"id\":\"5361\",\"type\":\"BoxZoomTool\"},{\"attributes\":{\"end\":11645.592999999999,\"reset_end\":11645.592999999999,\"reset_start\":0.0,\"tags\":[[[\"suicides/100k pop\",\"suicides/100k pop\",null]]]},\"id\":\"5339\",\"type\":\"Range1d\"}],\"root_ids\":[\"5337\"]},\"title\":\"Bokeh Application\",\"version\":\"2.4.3\"}};\n",
       "    var render_items = [{\"docid\":\"3b2a084b-78cc-41c5-8c85-bf3daf063158\",\"root_ids\":[\"5337\"],\"roots\":{\"5337\":\"e6f7f067-619e-4147-981c-d02b689b4335\"}}];\n",
       "    root.Bokeh.embed.embed_items_notebook(docs_json, render_items);\n",
       "  }\n",
       "  if (root.Bokeh !== undefined && root.Bokeh.Panel !== undefined) {\n",
       "    embed_document(root);\n",
       "  } else {\n",
       "    var attempts = 0;\n",
       "    var timer = setInterval(function(root) {\n",
       "      if (root.Bokeh !== undefined && root.Bokeh.Panel !== undefined) {\n",
       "        clearInterval(timer);\n",
       "        embed_document(root);\n",
       "      } else if (document.readyState == \"complete\") {\n",
       "        attempts++;\n",
       "        if (attempts > 200) {\n",
       "          clearInterval(timer);\n",
       "          console.log(\"Bokeh: ERROR: Unable to run BokehJS code because BokehJS library is missing\");\n",
       "        }\n",
       "      }\n",
       "    }, 25, root)\n",
       "  }\n",
       "})(window);</script>"
      ],
      "text/plain": [
       ":Bars   [country]   (suicides/100k pop)"
      ]
     },
     "execution_count": 61,
     "metadata": {
      "application/vnd.holoviews_exec.v0+json": {
       "id": "5337"
      }
     },
     "output_type": "execute_result"
    }
   ],
   "source": [
    "#My Code for Letter C\n",
    "\n",
    "import pandas as pd\n",
    "import hvplot.pandas\n",
    "\n",
    "c = pd.read_csv('suicide.csv')\n",
    "c1 = c[['suicides/100k pop', 'country']].groupby('country').sum().sort_values('suicides/100k pop', ascending=False).head(10)\n",
    "c1.hvplot(kind=\"barh\",title='Top 10 countries with the highest suicide cases based on suicides/100k Population',xlabel='Countries - Descending Order', ylabel='Suicides Per 100k Population Count')"
   ]
  },
  {
   "cell_type": "code",
   "execution_count": 80,
   "id": "eae4b43d",
   "metadata": {},
   "outputs": [
    {
     "data": {},
     "metadata": {},
     "output_type": "display_data"
    },
    {
     "data": {
      "application/vnd.holoviews_exec.v0+json": "",
      "text/html": [
       "<div id='7278'>\n",
       "  <div class=\"bk-root\" id=\"324c010c-9982-44c7-bde4-d84ed8794273\" data-root-id=\"7278\"></div>\n",
       "</div>\n",
       "<script type=\"application/javascript\">(function(root) {\n",
       "  function embed_document(root) {\n",
       "    var docs_json = {\"661a18c8-a1a9-468b-a1c9-ab5d67dc1c1a\":{\"defs\":[{\"extends\":null,\"module\":null,\"name\":\"ReactiveHTML1\",\"overrides\":[],\"properties\":[]},{\"extends\":null,\"module\":null,\"name\":\"FlexBox1\",\"overrides\":[],\"properties\":[{\"default\":\"flex-start\",\"kind\":null,\"name\":\"align_content\"},{\"default\":\"flex-start\",\"kind\":null,\"name\":\"align_items\"},{\"default\":\"row\",\"kind\":null,\"name\":\"flex_direction\"},{\"default\":\"wrap\",\"kind\":null,\"name\":\"flex_wrap\"},{\"default\":\"flex-start\",\"kind\":null,\"name\":\"justify_content\"}]},{\"extends\":null,\"module\":null,\"name\":\"GridStack1\",\"overrides\":[],\"properties\":[{\"default\":\"warn\",\"kind\":null,\"name\":\"mode\"},{\"default\":null,\"kind\":null,\"name\":\"ncols\"},{\"default\":null,\"kind\":null,\"name\":\"nrows\"},{\"default\":true,\"kind\":null,\"name\":\"allow_resize\"},{\"default\":true,\"kind\":null,\"name\":\"allow_drag\"},{\"default\":[],\"kind\":null,\"name\":\"state\"}]},{\"extends\":null,\"module\":null,\"name\":\"click1\",\"overrides\":[],\"properties\":[{\"default\":\"\",\"kind\":null,\"name\":\"terminal_output\"},{\"default\":\"\",\"kind\":null,\"name\":\"debug_name\"},{\"default\":0,\"kind\":null,\"name\":\"clears\"}]},{\"extends\":null,\"module\":null,\"name\":\"NotificationAreaBase1\",\"overrides\":[],\"properties\":[{\"default\":\"bottom-right\",\"kind\":null,\"name\":\"position\"},{\"default\":0,\"kind\":null,\"name\":\"_clear\"}]},{\"extends\":null,\"module\":null,\"name\":\"NotificationArea1\",\"overrides\":[],\"properties\":[{\"default\":[],\"kind\":null,\"name\":\"notifications\"},{\"default\":\"bottom-right\",\"kind\":null,\"name\":\"position\"},{\"default\":0,\"kind\":null,\"name\":\"_clear\"},{\"default\":[{\"background\":\"#ffc107\",\"icon\":{\"className\":\"fas fa-exclamation-triangle\",\"color\":\"white\",\"tagName\":\"i\"},\"type\":\"warning\"},{\"background\":\"#007bff\",\"icon\":{\"className\":\"fas fa-info-circle\",\"color\":\"white\",\"tagName\":\"i\"},\"type\":\"info\"}],\"kind\":null,\"name\":\"types\"}]},{\"extends\":null,\"module\":null,\"name\":\"Notification\",\"overrides\":[],\"properties\":[{\"default\":null,\"kind\":null,\"name\":\"background\"},{\"default\":3000,\"kind\":null,\"name\":\"duration\"},{\"default\":null,\"kind\":null,\"name\":\"icon\"},{\"default\":\"\",\"kind\":null,\"name\":\"message\"},{\"default\":null,\"kind\":null,\"name\":\"notification_type\"},{\"default\":false,\"kind\":null,\"name\":\"_destroyed\"}]},{\"extends\":null,\"module\":null,\"name\":\"TemplateActions1\",\"overrides\":[],\"properties\":[{\"default\":0,\"kind\":null,\"name\":\"open_modal\"},{\"default\":0,\"kind\":null,\"name\":\"close_modal\"}]},{\"extends\":null,\"module\":null,\"name\":\"MaterialTemplateActions1\",\"overrides\":[],\"properties\":[{\"default\":0,\"kind\":null,\"name\":\"open_modal\"},{\"default\":0,\"kind\":null,\"name\":\"close_modal\"}]}],\"roots\":{\"references\":[{\"attributes\":{\"axis_label\":\"Suicides Per 100k Population Count\",\"coordinates\":null,\"formatter\":{\"id\":\"7322\"},\"group\":null,\"major_label_policy\":{\"id\":\"7323\"},\"ticker\":{\"id\":\"7293\"}},\"id\":\"7292\",\"type\":\"LinearAxis\"},{\"attributes\":{},\"id\":\"7323\",\"type\":\"AllLabels\"},{\"attributes\":{\"margin\":[5,5,5,5],\"name\":\"HSpacer08398\",\"sizing_mode\":\"stretch_width\"},\"id\":\"7279\",\"type\":\"Spacer\"},{\"attributes\":{},\"id\":\"7300\",\"type\":\"PanTool\"},{\"attributes\":{\"axis\":{\"id\":\"7292\"},\"coordinates\":null,\"grid_line_color\":null,\"group\":null,\"ticker\":null},\"id\":\"7295\",\"type\":\"Grid\"},{\"attributes\":{},\"id\":\"7334\",\"type\":\"UnionRenderers\"},{\"attributes\":{},\"id\":\"7313\",\"type\":\"Selection\"},{\"attributes\":{},\"id\":\"7293\",\"type\":\"BasicTicker\"},{\"attributes\":{},\"id\":\"7301\",\"type\":\"WheelZoomTool\"},{\"attributes\":{\"axis_label\":\"Countries - Ascending Order\",\"coordinates\":null,\"formatter\":{\"id\":\"7325\"},\"group\":null,\"major_label_policy\":{\"id\":\"7326\"},\"ticker\":{\"id\":\"7297\"}},\"id\":\"7296\",\"type\":\"CategoricalAxis\"},{\"attributes\":{\"axis\":{\"id\":\"7296\"},\"coordinates\":null,\"dimension\":1,\"grid_line_color\":null,\"group\":null,\"ticker\":null},\"id\":\"7298\",\"type\":\"Grid\"},{\"attributes\":{},\"id\":\"7297\",\"type\":\"CategoricalTicker\"},{\"attributes\":{},\"id\":\"7326\",\"type\":\"AllLabels\"},{\"attributes\":{},\"id\":\"7288\",\"type\":\"LinearScale\"},{\"attributes\":{\"children\":[{\"id\":\"7279\"},{\"id\":\"7283\"},{\"id\":\"7337\"}],\"margin\":[0,0,0,0],\"name\":\"Row08394\",\"tags\":[\"embedded\"]},\"id\":\"7278\",\"type\":\"Row\"},{\"attributes\":{\"data\":{\"country\":[\"Belgium\",\"Finland\",\"Japan\",\"Ukraine\",\"Austria\",\"Republic of Korea\",\"Kazakhstan\",\"Hungary\",\"Lithuania\",\"Russian Federation\"],\"suicides_over_100k_pop\":{\"__ndarray__\":\"AAAAAIDcvkCPwvUoHPS+QBSuR+E6Wb9ArkfhetRxwUAK16NwHbrBQJqZmZk5Q8JA9ihcj8KXwkBcj8L1CNbDQD0K16NwrsRAPQrXo5AUxkA=\",\"dtype\":\"float64\",\"order\":\"little\",\"shape\":[10]}},\"selected\":{\"id\":\"7313\"},\"selection_policy\":{\"id\":\"7334\"}},\"id\":\"7312\",\"type\":\"ColumnDataSource\"},{\"attributes\":{\"fill_alpha\":{\"value\":1.0},\"fill_color\":{\"value\":\"#30a2da\"},\"hatch_alpha\":{\"value\":1.0},\"hatch_color\":{\"value\":\"#30a2da\"},\"hatch_scale\":{\"value\":12.0},\"hatch_weight\":{\"value\":1.0},\"height\":{\"value\":0.8},\"left\":{\"value\":0},\"line_alpha\":{\"value\":1.0},\"line_cap\":{\"value\":\"butt\"},\"line_color\":{\"value\":\"black\"},\"line_dash\":{\"value\":[]},\"line_dash_offset\":{\"value\":0},\"line_join\":{\"value\":\"bevel\"},\"line_width\":{\"value\":1},\"right\":{\"field\":\"suicides_over_100k_pop\"},\"y\":{\"field\":\"country\"}},\"id\":\"7320\",\"type\":\"HBar\"},{\"attributes\":{\"fill_alpha\":{\"value\":0.1},\"fill_color\":{\"value\":\"#30a2da\"},\"hatch_alpha\":{\"value\":0.1},\"hatch_color\":{\"value\":\"#30a2da\"},\"height\":{\"value\":0.8},\"line_alpha\":{\"value\":0.1},\"right\":{\"field\":\"suicides_over_100k_pop\"},\"y\":{\"field\":\"country\"}},\"id\":\"7316\",\"type\":\"HBar\"},{\"attributes\":{\"fill_color\":{\"value\":\"#30a2da\"},\"hatch_color\":{\"value\":\"#30a2da\"},\"height\":{\"value\":0.8},\"right\":{\"field\":\"suicides_over_100k_pop\"},\"y\":{\"field\":\"country\"}},\"id\":\"7315\",\"type\":\"HBar\"},{\"attributes\":{},\"id\":\"7299\",\"type\":\"SaveTool\"},{\"attributes\":{\"margin\":[5,5,5,5],\"name\":\"HSpacer08399\",\"sizing_mode\":\"stretch_width\"},\"id\":\"7337\",\"type\":\"Spacer\"},{\"attributes\":{\"end\":11645.592999999999,\"reset_end\":11645.592999999999,\"reset_start\":0.0,\"tags\":[[[\"suicides/100k pop\",\"suicides/100k pop\",null]]]},\"id\":\"7280\",\"type\":\"Range1d\"},{\"attributes\":{\"source\":{\"id\":\"7312\"}},\"id\":\"7319\",\"type\":\"CDSView\"},{\"attributes\":{\"overlay\":{\"id\":\"7304\"}},\"id\":\"7302\",\"type\":\"BoxZoomTool\"},{\"attributes\":{},\"id\":\"7303\",\"type\":\"ResetTool\"},{\"attributes\":{\"coordinates\":null,\"data_source\":{\"id\":\"7312\"},\"glyph\":{\"id\":\"7315\"},\"group\":null,\"hover_glyph\":null,\"muted_glyph\":{\"id\":\"7317\"},\"nonselection_glyph\":{\"id\":\"7316\"},\"selection_glyph\":{\"id\":\"7320\"},\"view\":{\"id\":\"7319\"}},\"id\":\"7318\",\"type\":\"GlyphRenderer\"},{\"attributes\":{\"bottom_units\":\"screen\",\"coordinates\":null,\"fill_alpha\":0.5,\"fill_color\":\"lightgrey\",\"group\":null,\"left_units\":\"screen\",\"level\":\"overlay\",\"line_alpha\":1.0,\"line_color\":\"black\",\"line_dash\":[4,4],\"line_width\":2,\"right_units\":\"screen\",\"syncable\":false,\"top_units\":\"screen\"},\"id\":\"7304\",\"type\":\"BoxAnnotation\"},{\"attributes\":{\"fill_alpha\":{\"value\":0.2},\"fill_color\":{\"value\":\"#30a2da\"},\"hatch_alpha\":{\"value\":0.2},\"hatch_color\":{\"value\":\"#30a2da\"},\"height\":{\"value\":0.8},\"line_alpha\":{\"value\":0.2},\"right\":{\"field\":\"suicides_over_100k_pop\"},\"y\":{\"field\":\"country\"}},\"id\":\"7317\",\"type\":\"HBar\"},{\"attributes\":{\"tools\":[{\"id\":\"7282\"},{\"id\":\"7299\"},{\"id\":\"7300\"},{\"id\":\"7301\"},{\"id\":\"7302\"},{\"id\":\"7303\"}]},\"id\":\"7305\",\"type\":\"Toolbar\"},{\"attributes\":{},\"id\":\"7322\",\"type\":\"BasicTickFormatter\"},{\"attributes\":{\"factors\":[\"Belgium\",\"Finland\",\"Japan\",\"Ukraine\",\"Austria\",\"Republic of Korea\",\"Kazakhstan\",\"Hungary\",\"Lithuania\",\"Russian Federation\"],\"tags\":[[[\"country\",\"country\",null]]]},\"id\":\"7281\",\"type\":\"FactorRange\"},{\"attributes\":{},\"id\":\"7325\",\"type\":\"CategoricalTickFormatter\"},{\"attributes\":{},\"id\":\"7290\",\"type\":\"CategoricalScale\"},{\"attributes\":{\"callback\":null,\"renderers\":[{\"id\":\"7318\"}],\"tags\":[\"hv_created\"],\"tooltips\":[[\"country\",\"@{country}\"],[\"suicides/100k pop\",\"@{suicides_over_100k_pop}\"]]},\"id\":\"7282\",\"type\":\"HoverTool\"},{\"attributes\":{\"coordinates\":null,\"group\":null,\"text\":\"Top 10 countries with the lowest suicide cases based on suicides/100k Population\",\"text_color\":\"black\",\"text_font_size\":\"12pt\"},\"id\":\"7284\",\"type\":\"Title\"},{\"attributes\":{\"below\":[{\"id\":\"7292\"}],\"center\":[{\"id\":\"7295\"},{\"id\":\"7298\"}],\"height\":300,\"left\":[{\"id\":\"7296\"}],\"margin\":[5,5,5,5],\"min_border_bottom\":10,\"min_border_left\":10,\"min_border_right\":10,\"min_border_top\":10,\"renderers\":[{\"id\":\"7318\"}],\"sizing_mode\":\"fixed\",\"title\":{\"id\":\"7284\"},\"toolbar\":{\"id\":\"7305\"},\"width\":700,\"x_range\":{\"id\":\"7280\"},\"x_scale\":{\"id\":\"7288\"},\"y_range\":{\"id\":\"7281\"},\"y_scale\":{\"id\":\"7290\"}},\"id\":\"7283\",\"subtype\":\"Figure\",\"type\":\"Plot\"}],\"root_ids\":[\"7278\"]},\"title\":\"Bokeh Application\",\"version\":\"2.4.3\"}};\n",
       "    var render_items = [{\"docid\":\"661a18c8-a1a9-468b-a1c9-ab5d67dc1c1a\",\"root_ids\":[\"7278\"],\"roots\":{\"7278\":\"324c010c-9982-44c7-bde4-d84ed8794273\"}}];\n",
       "    root.Bokeh.embed.embed_items_notebook(docs_json, render_items);\n",
       "  }\n",
       "  if (root.Bokeh !== undefined && root.Bokeh.Panel !== undefined) {\n",
       "    embed_document(root);\n",
       "  } else {\n",
       "    var attempts = 0;\n",
       "    var timer = setInterval(function(root) {\n",
       "      if (root.Bokeh !== undefined && root.Bokeh.Panel !== undefined) {\n",
       "        clearInterval(timer);\n",
       "        embed_document(root);\n",
       "      } else if (document.readyState == \"complete\") {\n",
       "        attempts++;\n",
       "        if (attempts > 200) {\n",
       "          clearInterval(timer);\n",
       "          console.log(\"Bokeh: ERROR: Unable to run BokehJS code because BokehJS library is missing\");\n",
       "        }\n",
       "      }\n",
       "    }, 25, root)\n",
       "  }\n",
       "})(window);</script>"
      ],
      "text/plain": [
       ":Bars   [country]   (suicides/100k pop)"
      ]
     },
     "execution_count": 80,
     "metadata": {
      "application/vnd.holoviews_exec.v0+json": {
       "id": "7278"
      }
     },
     "output_type": "execute_result"
    }
   ],
   "source": [
    "#My Code for Letter D\n",
    "\n",
    "import pandas as pd\n",
    "import hvplot.pandas\n",
    "\n",
    "d = pd.read_csv('suicide.csv')\n",
    "d1 = d[['suicides/100k pop','country']].groupby(['country']).sum().sort_values('suicides/100k pop', ascending=True).tail(10)\n",
    "d1.hvplot(kind=\"barh\",title='Top 10 countries with the lowest suicide cases based on suicides/100k Population',xlabel='Countries - Ascending Order',ylabel='Suicides Per 100k Population Count')"
   ]
  },
  {
   "cell_type": "code",
   "execution_count": 70,
   "id": "7d6d15ca",
   "metadata": {},
   "outputs": [
    {
     "data": {},
     "metadata": {},
     "output_type": "display_data"
    },
    {
     "data": {
      "application/vnd.holoviews_exec.v0+json": "",
      "text/html": [
       "<div id='6114'>\n",
       "  <div class=\"bk-root\" id=\"5cd74788-4ef9-4cfa-8c50-d3b9efb87390\" data-root-id=\"6114\"></div>\n",
       "</div>\n",
       "<script type=\"application/javascript\">(function(root) {\n",
       "  function embed_document(root) {\n",
       "    var docs_json = {\"17591bab-2a41-40a4-be57-74c75fceee4e\":{\"defs\":[{\"extends\":null,\"module\":null,\"name\":\"ReactiveHTML1\",\"overrides\":[],\"properties\":[]},{\"extends\":null,\"module\":null,\"name\":\"FlexBox1\",\"overrides\":[],\"properties\":[{\"default\":\"flex-start\",\"kind\":null,\"name\":\"align_content\"},{\"default\":\"flex-start\",\"kind\":null,\"name\":\"align_items\"},{\"default\":\"row\",\"kind\":null,\"name\":\"flex_direction\"},{\"default\":\"wrap\",\"kind\":null,\"name\":\"flex_wrap\"},{\"default\":\"flex-start\",\"kind\":null,\"name\":\"justify_content\"}]},{\"extends\":null,\"module\":null,\"name\":\"GridStack1\",\"overrides\":[],\"properties\":[{\"default\":\"warn\",\"kind\":null,\"name\":\"mode\"},{\"default\":null,\"kind\":null,\"name\":\"ncols\"},{\"default\":null,\"kind\":null,\"name\":\"nrows\"},{\"default\":true,\"kind\":null,\"name\":\"allow_resize\"},{\"default\":true,\"kind\":null,\"name\":\"allow_drag\"},{\"default\":[],\"kind\":null,\"name\":\"state\"}]},{\"extends\":null,\"module\":null,\"name\":\"click1\",\"overrides\":[],\"properties\":[{\"default\":\"\",\"kind\":null,\"name\":\"terminal_output\"},{\"default\":\"\",\"kind\":null,\"name\":\"debug_name\"},{\"default\":0,\"kind\":null,\"name\":\"clears\"}]},{\"extends\":null,\"module\":null,\"name\":\"NotificationAreaBase1\",\"overrides\":[],\"properties\":[{\"default\":\"bottom-right\",\"kind\":null,\"name\":\"position\"},{\"default\":0,\"kind\":null,\"name\":\"_clear\"}]},{\"extends\":null,\"module\":null,\"name\":\"NotificationArea1\",\"overrides\":[],\"properties\":[{\"default\":[],\"kind\":null,\"name\":\"notifications\"},{\"default\":\"bottom-right\",\"kind\":null,\"name\":\"position\"},{\"default\":0,\"kind\":null,\"name\":\"_clear\"},{\"default\":[{\"background\":\"#ffc107\",\"icon\":{\"className\":\"fas fa-exclamation-triangle\",\"color\":\"white\",\"tagName\":\"i\"},\"type\":\"warning\"},{\"background\":\"#007bff\",\"icon\":{\"className\":\"fas fa-info-circle\",\"color\":\"white\",\"tagName\":\"i\"},\"type\":\"info\"}],\"kind\":null,\"name\":\"types\"}]},{\"extends\":null,\"module\":null,\"name\":\"Notification\",\"overrides\":[],\"properties\":[{\"default\":null,\"kind\":null,\"name\":\"background\"},{\"default\":3000,\"kind\":null,\"name\":\"duration\"},{\"default\":null,\"kind\":null,\"name\":\"icon\"},{\"default\":\"\",\"kind\":null,\"name\":\"message\"},{\"default\":null,\"kind\":null,\"name\":\"notification_type\"},{\"default\":false,\"kind\":null,\"name\":\"_destroyed\"}]},{\"extends\":null,\"module\":null,\"name\":\"TemplateActions1\",\"overrides\":[],\"properties\":[{\"default\":0,\"kind\":null,\"name\":\"open_modal\"},{\"default\":0,\"kind\":null,\"name\":\"close_modal\"}]},{\"extends\":null,\"module\":null,\"name\":\"MaterialTemplateActions1\",\"overrides\":[],\"properties\":[{\"default\":0,\"kind\":null,\"name\":\"open_modal\"},{\"default\":0,\"kind\":null,\"name\":\"close_modal\"}]}],\"roots\":{\"references\":[{\"attributes\":{\"axis_label\":\"Regions\",\"coordinates\":null,\"formatter\":{\"id\":\"6158\"},\"group\":null,\"major_label_orientation\":0.7853981633974483,\"major_label_policy\":{\"id\":\"6159\"},\"ticker\":{\"id\":\"6129\"}},\"id\":\"6128\",\"type\":\"CategoricalAxis\"},{\"attributes\":{},\"id\":\"6170\",\"type\":\"UnionRenderers\"},{\"attributes\":{},\"id\":\"6136\",\"type\":\"PanTool\"},{\"attributes\":{},\"id\":\"6149\",\"type\":\"Selection\"},{\"attributes\":{},\"id\":\"6129\",\"type\":\"CategoricalTicker\"},{\"attributes\":{\"data\":{\"country\":[\"Albania\",\"Antigua and Barbuda\",\"Argentina\",\"Armenia\",\"Aruba\",\"Australia\",\"Austria\",\"Azerbaijan\",\"Bahamas\",\"Bahrain\",\"Barbados\",\"Belarus\",\"Belgium\",\"Belize\",\"Bosnia and Herzegovina\",\"Brazil\",\"Bulgaria\",\"Cabo Verde\",\"Canada\",\"Chile\",\"Colombia\",\"Costa Rica\",\"Croatia\",\"Cuba\",\"Cyprus\",\"Czech Republic\",\"Denmark\",\"Dominica\",\"Ecuador\",\"El Salvador\",\"Estonia\",\"Fiji\",\"Finland\",\"France\",\"Georgia\",\"Germany\",\"Greece\",\"Grenada\",\"Guatemala\",\"Guyana\",\"Hungary\",\"Iceland\",\"Ireland\",\"Israel\",\"Italy\",\"Jamaica\",\"Japan\",\"Kazakhstan\",\"Kiribati\",\"Kuwait\",\"Kyrgyzstan\",\"Latvia\",\"Lithuania\",\"Luxembourg\",\"Macau\",\"Maldives\",\"Malta\",\"Mauritius\",\"Mexico\",\"Mongolia\",\"Montenegro\",\"Netherlands\",\"New Zealand\",\"Nicaragua\",\"Norway\",\"Oman\",\"Panama\",\"Paraguay\",\"Philippines\",\"Poland\",\"Portugal\",\"Puerto Rico\",\"Qatar\",\"Republic of Korea\",\"Romania\",\"Russian Federation\",\"Saint Kitts and Nevis\",\"Saint Lucia\",\"Saint Vincent and Grenadines\",\"San Marino\",\"Serbia\",\"Seychelles\",\"Singapore\",\"Slovakia\",\"Slovenia\",\"South Africa\",\"Spain\",\"Sri Lanka\",\"Suriname\",\"Sweden\",\"Switzerland\",\"Thailand\",\"Trinidad and Tobago\",\"Turkey\",\"Turkmenistan\",\"Ukraine\",\"United Arab Emirates\",\"United Kingdom\",\"United States\",\"Uruguay\",\"Uzbekistan\"],\"suicides_over_100k_pop\":{\"__ndarray__\":\"BlVeUOUFDECeYwzuXbHhPxG8BMFL8CRAoGvqofw0CkDmyPSylQEjQOTLgAJR/ClAnatp63/CN0Awlvxiya/9P7LRl5VQ9fM/2013DoGq/T9i6yyNcsMHQJ0IvQNvEz9AnXPOOec8NUBbj8L1KOwYQBhLfrHkdxJAYjcldlNiF0AbVcJiNn0zQE8b6LSBTiZA3lyVdWfvKECValiphhUlQNyVs105mxVAEjyYJ+pfHECagdIR1NU2QC3Ygi3YODVA7A23mUhZCkCR6ljaz3wyQGLtG9a+MSxAAAAAAAAAAAD4G3q/oTcZQG2g0wY6FSVA1HwAO+NGO0DsUbgehWsUQEnt4Pc6xTZAUPqkT/qsNUArOKOCM+oQQFBFiLerHi9AQlEmFGVCEEAP1e1Q3Q4BQFHZYepyewlAcvkP6bcvNkD4yEpceWFAQPEqCaPJmSlAZx8+w66QJUDH83I8L+chQKlJl5p0CSFAshh/5Uuy4D+i0isqvZI1QMhJaWHjgj5A37nxnRufGkCg0NiEofvyPymLsiiLkixAJ2MyJmNCPUB+SvV6MTVEQA1czMDFjDBAYCz5xZKfLEB6W9bqmOD1P+H0EE4PIRRA2rVAj/BfJ0AVrkfhetQSQKrx0k1icDJASgwCK4fmI0CTArALakolQGfv8hCQyCxAryaeFY1EGkBvEoPAyuEpQOQ4juM4juc/eX3T4Q5BF0Bvwk5pZ94QQGeyMOLGXgNA7DB1uf2JLkDvPG7Y0KwmQGCm9WVaXyRA6bL9UwaZ/D8TfivhtyI5QJW00Ry2+ihA6GYCZTlyQUAAAAAAAAAAAMbNQpOazxxAVObTUJAFF0CuR+F6FC4QQCBZ58oDKjZAuvKAZJ3rHUBr9rpmrwsxQKOCMyo4IylA2FQacu7TO0Arzj58ht3uP57I2oms3SJAZnhchselQUBDzn12AVE1QJyGvX0eUS1A/JDclSoGM0Ag2WWNokscQDmZpFq7pitA5Y0RTPT3AkA8+k4fCjYhQGt5YwQTlTpAlvxiyS8W9T8DhShQiAIeQATmO2C+oytA+3Y8lBB2M0AjECwCwTIgQA==\",\"dtype\":\"float64\",\"order\":\"little\",\"shape\":[101]}},\"selected\":{\"id\":\"6149\"},\"selection_policy\":{\"id\":\"6170\"}},\"id\":\"6148\",\"type\":\"ColumnDataSource\"},{\"attributes\":{\"axis_label\":\"Suicides Per 100k Population Count\",\"coordinates\":null,\"formatter\":{\"id\":\"6161\"},\"group\":null,\"major_label_policy\":{\"id\":\"6162\"},\"ticker\":{\"id\":\"6132\"}},\"id\":\"6131\",\"type\":\"LinearAxis\"},{\"attributes\":{\"fill_alpha\":{\"value\":0.1},\"fill_color\":{\"value\":\"#30a2da\"},\"hatch_alpha\":{\"value\":0.1},\"hatch_color\":{\"value\":\"#30a2da\"},\"line_alpha\":{\"value\":0.1},\"top\":{\"field\":\"suicides_over_100k_pop\"},\"width\":{\"value\":0.8},\"x\":{\"field\":\"country\"}},\"id\":\"6152\",\"type\":\"VBar\"},{\"attributes\":{\"axis\":{\"id\":\"6131\"},\"coordinates\":null,\"dimension\":1,\"grid_line_color\":null,\"group\":null,\"ticker\":null},\"id\":\"6134\",\"type\":\"Grid\"},{\"attributes\":{},\"id\":\"6132\",\"type\":\"BasicTicker\"},{\"attributes\":{},\"id\":\"6159\",\"type\":\"AllLabels\"},{\"attributes\":{},\"id\":\"6137\",\"type\":\"WheelZoomTool\"},{\"attributes\":{\"bottom\":{\"value\":0},\"fill_alpha\":{\"value\":1.0},\"fill_color\":{\"value\":\"#30a2da\"},\"hatch_alpha\":{\"value\":1.0},\"hatch_color\":{\"value\":\"#30a2da\"},\"hatch_scale\":{\"value\":12.0},\"hatch_weight\":{\"value\":1.0},\"line_alpha\":{\"value\":1.0},\"line_cap\":{\"value\":\"butt\"},\"line_color\":{\"value\":\"black\"},\"line_dash\":{\"value\":[]},\"line_dash_offset\":{\"value\":0},\"line_join\":{\"value\":\"bevel\"},\"line_width\":{\"value\":1},\"top\":{\"field\":\"suicides_over_100k_pop\"},\"width\":{\"value\":0.8},\"x\":{\"field\":\"country\"}},\"id\":\"6156\",\"type\":\"VBar\"},{\"attributes\":{\"fill_color\":{\"value\":\"#30a2da\"},\"hatch_color\":{\"value\":\"#30a2da\"},\"top\":{\"field\":\"suicides_over_100k_pop\"},\"width\":{\"value\":0.8},\"x\":{\"field\":\"country\"}},\"id\":\"6151\",\"type\":\"VBar\"},{\"attributes\":{\"children\":[{\"id\":\"6115\"},{\"id\":\"6119\"},{\"id\":\"6173\"}],\"margin\":[0,0,0,0],\"name\":\"Row06664\",\"tags\":[\"embedded\"]},\"id\":\"6114\",\"type\":\"Row\"},{\"attributes\":{\"source\":{\"id\":\"6148\"}},\"id\":\"6155\",\"type\":\"CDSView\"},{\"attributes\":{},\"id\":\"6135\",\"type\":\"SaveTool\"},{\"attributes\":{\"margin\":[5,5,5,5],\"name\":\"HSpacer06669\",\"sizing_mode\":\"stretch_width\"},\"id\":\"6173\",\"type\":\"Spacer\"},{\"attributes\":{\"factors\":[\"Albania\",\"Antigua and Barbuda\",\"Argentina\",\"Armenia\",\"Aruba\",\"Australia\",\"Austria\",\"Azerbaijan\",\"Bahamas\",\"Bahrain\",\"Barbados\",\"Belarus\",\"Belgium\",\"Belize\",\"Bosnia and Herzegovina\",\"Brazil\",\"Bulgaria\",\"Cabo Verde\",\"Canada\",\"Chile\",\"Colombia\",\"Costa Rica\",\"Croatia\",\"Cuba\",\"Cyprus\",\"Czech Republic\",\"Denmark\",\"Dominica\",\"Ecuador\",\"El Salvador\",\"Estonia\",\"Fiji\",\"Finland\",\"France\",\"Georgia\",\"Germany\",\"Greece\",\"Grenada\",\"Guatemala\",\"Guyana\",\"Hungary\",\"Iceland\",\"Ireland\",\"Israel\",\"Italy\",\"Jamaica\",\"Japan\",\"Kazakhstan\",\"Kiribati\",\"Kuwait\",\"Kyrgyzstan\",\"Latvia\",\"Lithuania\",\"Luxembourg\",\"Macau\",\"Maldives\",\"Malta\",\"Mauritius\",\"Mexico\",\"Mongolia\",\"Montenegro\",\"Netherlands\",\"New Zealand\",\"Nicaragua\",\"Norway\",\"Oman\",\"Panama\",\"Paraguay\",\"Philippines\",\"Poland\",\"Portugal\",\"Puerto Rico\",\"Qatar\",\"Republic of Korea\",\"Romania\",\"Russian Federation\",\"Saint Kitts and Nevis\",\"Saint Lucia\",\"Saint Vincent and Grenadines\",\"San Marino\",\"Serbia\",\"Seychelles\",\"Singapore\",\"Slovakia\",\"Slovenia\",\"South Africa\",\"Spain\",\"Sri Lanka\",\"Suriname\",\"Sweden\",\"Switzerland\",\"Thailand\",\"Trinidad and Tobago\",\"Turkey\",\"Turkmenistan\",\"Ukraine\",\"United Arab Emirates\",\"United Kingdom\",\"United States\",\"Uruguay\",\"Uzbekistan\"],\"tags\":[[[\"country\",\"country\",null]]]},\"id\":\"6116\",\"type\":\"FactorRange\"},{\"attributes\":{\"overlay\":{\"id\":\"6140\"}},\"id\":\"6138\",\"type\":\"BoxZoomTool\"},{\"attributes\":{},\"id\":\"6139\",\"type\":\"ResetTool\"},{\"attributes\":{\"coordinates\":null,\"data_source\":{\"id\":\"6148\"},\"glyph\":{\"id\":\"6151\"},\"group\":null,\"hover_glyph\":null,\"muted_glyph\":{\"id\":\"6153\"},\"nonselection_glyph\":{\"id\":\"6152\"},\"selection_glyph\":{\"id\":\"6156\"},\"view\":{\"id\":\"6155\"}},\"id\":\"6154\",\"type\":\"GlyphRenderer\"},{\"attributes\":{\"fill_alpha\":{\"value\":0.2},\"fill_color\":{\"value\":\"#30a2da\"},\"hatch_alpha\":{\"value\":0.2},\"hatch_color\":{\"value\":\"#30a2da\"},\"line_alpha\":{\"value\":0.2},\"top\":{\"field\":\"suicides_over_100k_pop\"},\"width\":{\"value\":0.8},\"x\":{\"field\":\"country\"}},\"id\":\"6153\",\"type\":\"VBar\"},{\"attributes\":{\"bottom_units\":\"screen\",\"coordinates\":null,\"fill_alpha\":0.5,\"fill_color\":\"lightgrey\",\"group\":null,\"left_units\":\"screen\",\"level\":\"overlay\",\"line_alpha\":1.0,\"line_color\":\"black\",\"line_dash\":[4,4],\"line_width\":2,\"right_units\":\"screen\",\"syncable\":false,\"top_units\":\"screen\"},\"id\":\"6140\",\"type\":\"BoxAnnotation\"},{\"attributes\":{\"margin\":[5,5,5,5],\"name\":\"HSpacer06668\",\"sizing_mode\":\"stretch_width\"},\"id\":\"6115\",\"type\":\"Spacer\"},{\"attributes\":{},\"id\":\"6124\",\"type\":\"CategoricalScale\"},{\"attributes\":{\"tools\":[{\"id\":\"6118\"},{\"id\":\"6135\"},{\"id\":\"6136\"},{\"id\":\"6137\"},{\"id\":\"6138\"},{\"id\":\"6139\"}]},\"id\":\"6141\",\"type\":\"Toolbar\"},{\"attributes\":{},\"id\":\"6158\",\"type\":\"CategoricalTickFormatter\"},{\"attributes\":{\"end\":44.45712977099236,\"reset_end\":44.45712977099236,\"reset_start\":0.0,\"tags\":[[[\"suicides/100k pop\",\"suicides/100k pop\",null]]]},\"id\":\"6117\",\"type\":\"Range1d\"},{\"attributes\":{},\"id\":\"6162\",\"type\":\"AllLabels\"},{\"attributes\":{},\"id\":\"6161\",\"type\":\"BasicTickFormatter\"},{\"attributes\":{},\"id\":\"6126\",\"type\":\"LinearScale\"},{\"attributes\":{\"callback\":null,\"renderers\":[{\"id\":\"6154\"}],\"tags\":[\"hv_created\"],\"tooltips\":[[\"country\",\"@{country}\"],[\"suicides/100k pop\",\"@{suicides_over_100k_pop}\"]]},\"id\":\"6118\",\"type\":\"HoverTool\"},{\"attributes\":{\"coordinates\":null,\"group\":null,\"text\":\"Suicide cases per region based on suicides/100k Population\",\"text_color\":\"black\",\"text_font_size\":\"12pt\"},\"id\":\"6120\",\"type\":\"Title\"},{\"attributes\":{\"below\":[{\"id\":\"6128\"}],\"center\":[{\"id\":\"6130\"},{\"id\":\"6134\"}],\"height\":400,\"left\":[{\"id\":\"6131\"}],\"margin\":[5,5,5,5],\"min_border_bottom\":10,\"min_border_left\":10,\"min_border_right\":10,\"min_border_top\":10,\"renderers\":[{\"id\":\"6154\"}],\"sizing_mode\":\"fixed\",\"title\":{\"id\":\"6120\"},\"toolbar\":{\"id\":\"6141\"},\"width\":800,\"x_range\":{\"id\":\"6116\"},\"x_scale\":{\"id\":\"6124\"},\"y_range\":{\"id\":\"6117\"},\"y_scale\":{\"id\":\"6126\"}},\"id\":\"6119\",\"subtype\":\"Figure\",\"type\":\"Plot\"},{\"attributes\":{\"axis\":{\"id\":\"6128\"},\"coordinates\":null,\"grid_line_color\":null,\"group\":null,\"ticker\":null},\"id\":\"6130\",\"type\":\"Grid\"}],\"root_ids\":[\"6114\"]},\"title\":\"Bokeh Application\",\"version\":\"2.4.3\"}};\n",
       "    var render_items = [{\"docid\":\"17591bab-2a41-40a4-be57-74c75fceee4e\",\"root_ids\":[\"6114\"],\"roots\":{\"6114\":\"5cd74788-4ef9-4cfa-8c50-d3b9efb87390\"}}];\n",
       "    root.Bokeh.embed.embed_items_notebook(docs_json, render_items);\n",
       "  }\n",
       "  if (root.Bokeh !== undefined && root.Bokeh.Panel !== undefined) {\n",
       "    embed_document(root);\n",
       "  } else {\n",
       "    var attempts = 0;\n",
       "    var timer = setInterval(function(root) {\n",
       "      if (root.Bokeh !== undefined && root.Bokeh.Panel !== undefined) {\n",
       "        clearInterval(timer);\n",
       "        embed_document(root);\n",
       "      } else if (document.readyState == \"complete\") {\n",
       "        attempts++;\n",
       "        if (attempts > 200) {\n",
       "          clearInterval(timer);\n",
       "          console.log(\"Bokeh: ERROR: Unable to run BokehJS code because BokehJS library is missing\");\n",
       "        }\n",
       "      }\n",
       "    }, 25, root)\n",
       "  }\n",
       "})(window);</script>"
      ],
      "text/plain": [
       ":Bars   [country]   (suicides/100k pop)"
      ]
     },
     "execution_count": 70,
     "metadata": {
      "application/vnd.holoviews_exec.v0+json": {
       "id": "6114"
      }
     },
     "output_type": "execute_result"
    }
   ],
   "source": [
    "#My Code for Letter E\n",
    "import pandas as pd\n",
    "import hvplot.pandas\n",
    "\n",
    "g = pd.read_csv('suicide.csv')\n",
    "\n",
    "g1 = g.groupby('country').mean()['suicides/100k pop']\n",
    "g1.hvplot(kind='bar', title='Suicide cases per region based on suicides/100k Population', rot=45, height=400, width=800,xlabel='Regions',ylabel='Suicides Per 100k Population Count')"
   ]
  },
  {
   "cell_type": "code",
   "execution_count": 44,
   "id": "e90bf708",
   "metadata": {},
   "outputs": [
    {
     "data": {},
     "metadata": {},
     "output_type": "display_data"
    },
    {
     "data": {
      "application/vnd.holoviews_exec.v0+json": "",
      "text/html": [
       "<div id='3670'>\n",
       "  <div class=\"bk-root\" id=\"ffe4730d-41e0-4be5-878d-10d099a41ccf\" data-root-id=\"3670\"></div>\n",
       "</div>\n",
       "<script type=\"application/javascript\">(function(root) {\n",
       "  function embed_document(root) {\n",
       "    var docs_json = {\"8095b703-4c27-47c4-a0af-60cc911b22ee\":{\"defs\":[{\"extends\":null,\"module\":null,\"name\":\"ReactiveHTML1\",\"overrides\":[],\"properties\":[]},{\"extends\":null,\"module\":null,\"name\":\"FlexBox1\",\"overrides\":[],\"properties\":[{\"default\":\"flex-start\",\"kind\":null,\"name\":\"align_content\"},{\"default\":\"flex-start\",\"kind\":null,\"name\":\"align_items\"},{\"default\":\"row\",\"kind\":null,\"name\":\"flex_direction\"},{\"default\":\"wrap\",\"kind\":null,\"name\":\"flex_wrap\"},{\"default\":\"flex-start\",\"kind\":null,\"name\":\"justify_content\"}]},{\"extends\":null,\"module\":null,\"name\":\"GridStack1\",\"overrides\":[],\"properties\":[{\"default\":\"warn\",\"kind\":null,\"name\":\"mode\"},{\"default\":null,\"kind\":null,\"name\":\"ncols\"},{\"default\":null,\"kind\":null,\"name\":\"nrows\"},{\"default\":true,\"kind\":null,\"name\":\"allow_resize\"},{\"default\":true,\"kind\":null,\"name\":\"allow_drag\"},{\"default\":[],\"kind\":null,\"name\":\"state\"}]},{\"extends\":null,\"module\":null,\"name\":\"click1\",\"overrides\":[],\"properties\":[{\"default\":\"\",\"kind\":null,\"name\":\"terminal_output\"},{\"default\":\"\",\"kind\":null,\"name\":\"debug_name\"},{\"default\":0,\"kind\":null,\"name\":\"clears\"}]},{\"extends\":null,\"module\":null,\"name\":\"NotificationAreaBase1\",\"overrides\":[],\"properties\":[{\"default\":\"bottom-right\",\"kind\":null,\"name\":\"position\"},{\"default\":0,\"kind\":null,\"name\":\"_clear\"}]},{\"extends\":null,\"module\":null,\"name\":\"NotificationArea1\",\"overrides\":[],\"properties\":[{\"default\":[],\"kind\":null,\"name\":\"notifications\"},{\"default\":\"bottom-right\",\"kind\":null,\"name\":\"position\"},{\"default\":0,\"kind\":null,\"name\":\"_clear\"},{\"default\":[{\"background\":\"#ffc107\",\"icon\":{\"className\":\"fas fa-exclamation-triangle\",\"color\":\"white\",\"tagName\":\"i\"},\"type\":\"warning\"},{\"background\":\"#007bff\",\"icon\":{\"className\":\"fas fa-info-circle\",\"color\":\"white\",\"tagName\":\"i\"},\"type\":\"info\"}],\"kind\":null,\"name\":\"types\"}]},{\"extends\":null,\"module\":null,\"name\":\"Notification\",\"overrides\":[],\"properties\":[{\"default\":null,\"kind\":null,\"name\":\"background\"},{\"default\":3000,\"kind\":null,\"name\":\"duration\"},{\"default\":null,\"kind\":null,\"name\":\"icon\"},{\"default\":\"\",\"kind\":null,\"name\":\"message\"},{\"default\":null,\"kind\":null,\"name\":\"notification_type\"},{\"default\":false,\"kind\":null,\"name\":\"_destroyed\"}]},{\"extends\":null,\"module\":null,\"name\":\"TemplateActions1\",\"overrides\":[],\"properties\":[{\"default\":0,\"kind\":null,\"name\":\"open_modal\"},{\"default\":0,\"kind\":null,\"name\":\"close_modal\"}]},{\"extends\":null,\"module\":null,\"name\":\"MaterialTemplateActions1\",\"overrides\":[],\"properties\":[{\"default\":0,\"kind\":null,\"name\":\"open_modal\"},{\"default\":0,\"kind\":null,\"name\":\"close_modal\"}]}],\"roots\":{\"references\":[{\"attributes\":{},\"id\":\"3680\",\"type\":\"CategoricalScale\"},{\"attributes\":{\"factors\":[\"male\",\"female\"],\"tags\":[[[\"sex\",\"sex\",null]]]},\"id\":\"3672\",\"type\":\"FactorRange\"},{\"attributes\":{\"data\":{\"sex\":[\"male\",\"female\"],\"suicides_over_100k_pop\":{\"__ndarray__\":\"cPSeokQ9NECwB/mJS5IVQA==\",\"dtype\":\"float64\",\"order\":\"little\",\"shape\":[2]}},\"selected\":{\"id\":\"3705\"},\"selection_policy\":{\"id\":\"3726\"}},\"id\":\"3704\",\"type\":\"ColumnDataSource\"},{\"attributes\":{\"axis\":{\"id\":\"3687\"},\"coordinates\":null,\"dimension\":1,\"grid_line_color\":null,\"group\":null,\"ticker\":null},\"id\":\"3690\",\"type\":\"Grid\"},{\"attributes\":{\"callback\":null,\"renderers\":[{\"id\":\"3710\"}],\"tags\":[\"hv_created\"],\"tooltips\":[[\"sex\",\"@{sex}\"],[\"suicides/100k pop\",\"@{suicides_over_100k_pop}\"]]},\"id\":\"3674\",\"type\":\"HoverTool\"},{\"attributes\":{\"source\":{\"id\":\"3704\"}},\"id\":\"3711\",\"type\":\"CDSView\"},{\"attributes\":{},\"id\":\"3715\",\"type\":\"AllLabels\"},{\"attributes\":{\"children\":[{\"id\":\"3671\"},{\"id\":\"3675\"},{\"id\":\"3729\"}],\"margin\":[0,0,0,0],\"name\":\"Row04094\",\"tags\":[\"embedded\"]},\"id\":\"3670\",\"type\":\"Row\"},{\"attributes\":{},\"id\":\"3726\",\"type\":\"UnionRenderers\"},{\"attributes\":{\"margin\":[5,5,5,5],\"name\":\"HSpacer04099\",\"sizing_mode\":\"stretch_width\"},\"id\":\"3729\",\"type\":\"Spacer\"},{\"attributes\":{\"overlay\":{\"id\":\"3696\"}},\"id\":\"3694\",\"type\":\"BoxZoomTool\"},{\"attributes\":{},\"id\":\"3685\",\"type\":\"CategoricalTicker\"},{\"attributes\":{\"axis_label\":\"Gender\",\"coordinates\":null,\"formatter\":{\"id\":\"3714\"},\"group\":null,\"major_label_policy\":{\"id\":\"3715\"},\"ticker\":{\"id\":\"3685\"}},\"id\":\"3684\",\"type\":\"CategoricalAxis\"},{\"attributes\":{\"axis_label\":\"Suicides/100k population\",\"coordinates\":null,\"formatter\":{\"id\":\"3717\"},\"group\":null,\"major_label_policy\":{\"id\":\"3718\"},\"ticker\":{\"id\":\"3688\"}},\"id\":\"3687\",\"type\":\"LinearAxis\"},{\"attributes\":{},\"id\":\"3682\",\"type\":\"LinearScale\"},{\"attributes\":{\"bottom_units\":\"screen\",\"coordinates\":null,\"fill_alpha\":0.5,\"fill_color\":\"lightgrey\",\"group\":null,\"left_units\":\"screen\",\"level\":\"overlay\",\"line_alpha\":1.0,\"line_color\":\"black\",\"line_dash\":[4,4],\"line_width\":2,\"right_units\":\"screen\",\"syncable\":false,\"top_units\":\"screen\"},\"id\":\"3696\",\"type\":\"BoxAnnotation\"},{\"attributes\":{},\"id\":\"3691\",\"type\":\"SaveTool\"},{\"attributes\":{\"tools\":[{\"id\":\"3674\"},{\"id\":\"3691\"},{\"id\":\"3692\"},{\"id\":\"3693\"},{\"id\":\"3694\"},{\"id\":\"3695\"}]},\"id\":\"3697\",\"type\":\"Toolbar\"},{\"attributes\":{\"fill_color\":{\"value\":\"#30a2da\"},\"hatch_color\":{\"value\":\"#30a2da\"},\"top\":{\"field\":\"suicides_over_100k_pop\"},\"width\":{\"value\":0.8},\"x\":{\"field\":\"sex\"}},\"id\":\"3707\",\"type\":\"VBar\"},{\"attributes\":{\"end\":21.72397476635514,\"reset_end\":21.72397476635514,\"reset_start\":0.0,\"tags\":[[[\"suicides/100k pop\",\"suicides/100k pop\",null]]]},\"id\":\"3673\",\"type\":\"Range1d\"},{\"attributes\":{},\"id\":\"3692\",\"type\":\"PanTool\"},{\"attributes\":{},\"id\":\"3718\",\"type\":\"AllLabels\"},{\"attributes\":{\"bottom\":{\"value\":0},\"fill_alpha\":{\"value\":1.0},\"fill_color\":{\"value\":\"#30a2da\"},\"hatch_alpha\":{\"value\":1.0},\"hatch_color\":{\"value\":\"#30a2da\"},\"hatch_scale\":{\"value\":12.0},\"hatch_weight\":{\"value\":1.0},\"line_alpha\":{\"value\":1.0},\"line_cap\":{\"value\":\"butt\"},\"line_color\":{\"value\":\"black\"},\"line_dash\":{\"value\":[]},\"line_dash_offset\":{\"value\":0},\"line_join\":{\"value\":\"bevel\"},\"line_width\":{\"value\":1},\"top\":{\"field\":\"suicides_over_100k_pop\"},\"width\":{\"value\":0.8},\"x\":{\"field\":\"sex\"}},\"id\":\"3712\",\"type\":\"VBar\"},{\"attributes\":{\"coordinates\":null,\"group\":null,\"text\":\"Suicide cases trend by gender based on suicides/100k pop\",\"text_color\":\"black\",\"text_font_size\":\"12pt\"},\"id\":\"3676\",\"type\":\"Title\"},{\"attributes\":{},\"id\":\"3717\",\"type\":\"BasicTickFormatter\"},{\"attributes\":{},\"id\":\"3693\",\"type\":\"WheelZoomTool\"},{\"attributes\":{\"below\":[{\"id\":\"3684\"}],\"center\":[{\"id\":\"3686\"},{\"id\":\"3690\"}],\"height\":300,\"left\":[{\"id\":\"3687\"}],\"margin\":[5,5,5,5],\"min_border_bottom\":10,\"min_border_left\":10,\"min_border_right\":10,\"min_border_top\":10,\"renderers\":[{\"id\":\"3710\"}],\"sizing_mode\":\"fixed\",\"title\":{\"id\":\"3676\"},\"toolbar\":{\"id\":\"3697\"},\"width\":700,\"x_range\":{\"id\":\"3672\"},\"x_scale\":{\"id\":\"3680\"},\"y_range\":{\"id\":\"3673\"},\"y_scale\":{\"id\":\"3682\"}},\"id\":\"3675\",\"subtype\":\"Figure\",\"type\":\"Plot\"},{\"attributes\":{\"margin\":[5,5,5,5],\"name\":\"HSpacer04098\",\"sizing_mode\":\"stretch_width\"},\"id\":\"3671\",\"type\":\"Spacer\"},{\"attributes\":{\"fill_alpha\":{\"value\":0.1},\"fill_color\":{\"value\":\"#30a2da\"},\"hatch_alpha\":{\"value\":0.1},\"hatch_color\":{\"value\":\"#30a2da\"},\"line_alpha\":{\"value\":0.1},\"top\":{\"field\":\"suicides_over_100k_pop\"},\"width\":{\"value\":0.8},\"x\":{\"field\":\"sex\"}},\"id\":\"3708\",\"type\":\"VBar\"},{\"attributes\":{\"coordinates\":null,\"data_source\":{\"id\":\"3704\"},\"glyph\":{\"id\":\"3707\"},\"group\":null,\"hover_glyph\":null,\"muted_glyph\":{\"id\":\"3709\"},\"nonselection_glyph\":{\"id\":\"3708\"},\"selection_glyph\":{\"id\":\"3712\"},\"view\":{\"id\":\"3711\"}},\"id\":\"3710\",\"type\":\"GlyphRenderer\"},{\"attributes\":{},\"id\":\"3714\",\"type\":\"CategoricalTickFormatter\"},{\"attributes\":{},\"id\":\"3695\",\"type\":\"ResetTool\"},{\"attributes\":{\"axis\":{\"id\":\"3684\"},\"coordinates\":null,\"grid_line_color\":null,\"group\":null,\"ticker\":null},\"id\":\"3686\",\"type\":\"Grid\"},{\"attributes\":{},\"id\":\"3705\",\"type\":\"Selection\"},{\"attributes\":{\"fill_alpha\":{\"value\":0.2},\"fill_color\":{\"value\":\"#30a2da\"},\"hatch_alpha\":{\"value\":0.2},\"hatch_color\":{\"value\":\"#30a2da\"},\"line_alpha\":{\"value\":0.2},\"top\":{\"field\":\"suicides_over_100k_pop\"},\"width\":{\"value\":0.8},\"x\":{\"field\":\"sex\"}},\"id\":\"3709\",\"type\":\"VBar\"},{\"attributes\":{},\"id\":\"3688\",\"type\":\"BasicTicker\"}],\"root_ids\":[\"3670\"]},\"title\":\"Bokeh Application\",\"version\":\"2.4.3\"}};\n",
       "    var render_items = [{\"docid\":\"8095b703-4c27-47c4-a0af-60cc911b22ee\",\"root_ids\":[\"3670\"],\"roots\":{\"3670\":\"ffe4730d-41e0-4be5-878d-10d099a41ccf\"}}];\n",
       "    root.Bokeh.embed.embed_items_notebook(docs_json, render_items);\n",
       "  }\n",
       "  if (root.Bokeh !== undefined && root.Bokeh.Panel !== undefined) {\n",
       "    embed_document(root);\n",
       "  } else {\n",
       "    var attempts = 0;\n",
       "    var timer = setInterval(function(root) {\n",
       "      if (root.Bokeh !== undefined && root.Bokeh.Panel !== undefined) {\n",
       "        clearInterval(timer);\n",
       "        embed_document(root);\n",
       "      } else if (document.readyState == \"complete\") {\n",
       "        attempts++;\n",
       "        if (attempts > 200) {\n",
       "          clearInterval(timer);\n",
       "          console.log(\"Bokeh: ERROR: Unable to run BokehJS code because BokehJS library is missing\");\n",
       "        }\n",
       "      }\n",
       "    }, 25, root)\n",
       "  }\n",
       "})(window);</script>"
      ],
      "text/plain": [
       ":Bars   [sex]   (suicides/100k pop)"
      ]
     },
     "execution_count": 44,
     "metadata": {
      "application/vnd.holoviews_exec.v0+json": {
       "id": "3670"
      }
     },
     "output_type": "execute_result"
    }
   ],
   "source": [
    "#My Code for Letter F\n",
    "\n",
    "import pandas as pd\n",
    "import hvplot.pandas as hv\n",
    "\n",
    "\n",
    "f = pd.read_csv('suicide.csv')\n",
    "\n",
    "f = f.groupby('sex')\n",
    "f = f[['suicides/100k pop']]\n",
    "f = f.mean()\n",
    "f = f.sort_values(by='suicides/100k pop',ascending=False)\n",
    "f = f.hvplot(kind=\"bar\",title=\"Suicide cases trend by gender based on suicides/100k pop\",xlabel=\"Gender\",ylabel=\"Suicides/100k population\")\n",
    "f"
   ]
  },
  {
   "cell_type": "code",
   "execution_count": 83,
   "id": "585c69c0",
   "metadata": {},
   "outputs": [
    {
     "data": {},
     "metadata": {},
     "output_type": "display_data"
    },
    {
     "data": {
      "application/vnd.holoviews_exec.v0+json": "",
      "text/html": [
       "<div id='7613'>\n",
       "  <div class=\"bk-root\" id=\"05b19aab-9861-4d3b-b616-625b21c88fcc\" data-root-id=\"7613\"></div>\n",
       "</div>\n",
       "<script type=\"application/javascript\">(function(root) {\n",
       "  function embed_document(root) {\n",
       "    var docs_json = {\"b9a3845f-df42-4659-b3ce-16c693ffea69\":{\"defs\":[{\"extends\":null,\"module\":null,\"name\":\"ReactiveHTML1\",\"overrides\":[],\"properties\":[]},{\"extends\":null,\"module\":null,\"name\":\"FlexBox1\",\"overrides\":[],\"properties\":[{\"default\":\"flex-start\",\"kind\":null,\"name\":\"align_content\"},{\"default\":\"flex-start\",\"kind\":null,\"name\":\"align_items\"},{\"default\":\"row\",\"kind\":null,\"name\":\"flex_direction\"},{\"default\":\"wrap\",\"kind\":null,\"name\":\"flex_wrap\"},{\"default\":\"flex-start\",\"kind\":null,\"name\":\"justify_content\"}]},{\"extends\":null,\"module\":null,\"name\":\"GridStack1\",\"overrides\":[],\"properties\":[{\"default\":\"warn\",\"kind\":null,\"name\":\"mode\"},{\"default\":null,\"kind\":null,\"name\":\"ncols\"},{\"default\":null,\"kind\":null,\"name\":\"nrows\"},{\"default\":true,\"kind\":null,\"name\":\"allow_resize\"},{\"default\":true,\"kind\":null,\"name\":\"allow_drag\"},{\"default\":[],\"kind\":null,\"name\":\"state\"}]},{\"extends\":null,\"module\":null,\"name\":\"click1\",\"overrides\":[],\"properties\":[{\"default\":\"\",\"kind\":null,\"name\":\"terminal_output\"},{\"default\":\"\",\"kind\":null,\"name\":\"debug_name\"},{\"default\":0,\"kind\":null,\"name\":\"clears\"}]},{\"extends\":null,\"module\":null,\"name\":\"NotificationAreaBase1\",\"overrides\":[],\"properties\":[{\"default\":\"bottom-right\",\"kind\":null,\"name\":\"position\"},{\"default\":0,\"kind\":null,\"name\":\"_clear\"}]},{\"extends\":null,\"module\":null,\"name\":\"NotificationArea1\",\"overrides\":[],\"properties\":[{\"default\":[],\"kind\":null,\"name\":\"notifications\"},{\"default\":\"bottom-right\",\"kind\":null,\"name\":\"position\"},{\"default\":0,\"kind\":null,\"name\":\"_clear\"},{\"default\":[{\"background\":\"#ffc107\",\"icon\":{\"className\":\"fas fa-exclamation-triangle\",\"color\":\"white\",\"tagName\":\"i\"},\"type\":\"warning\"},{\"background\":\"#007bff\",\"icon\":{\"className\":\"fas fa-info-circle\",\"color\":\"white\",\"tagName\":\"i\"},\"type\":\"info\"}],\"kind\":null,\"name\":\"types\"}]},{\"extends\":null,\"module\":null,\"name\":\"Notification\",\"overrides\":[],\"properties\":[{\"default\":null,\"kind\":null,\"name\":\"background\"},{\"default\":3000,\"kind\":null,\"name\":\"duration\"},{\"default\":null,\"kind\":null,\"name\":\"icon\"},{\"default\":\"\",\"kind\":null,\"name\":\"message\"},{\"default\":null,\"kind\":null,\"name\":\"notification_type\"},{\"default\":false,\"kind\":null,\"name\":\"_destroyed\"}]},{\"extends\":null,\"module\":null,\"name\":\"TemplateActions1\",\"overrides\":[],\"properties\":[{\"default\":0,\"kind\":null,\"name\":\"open_modal\"},{\"default\":0,\"kind\":null,\"name\":\"close_modal\"}]},{\"extends\":null,\"module\":null,\"name\":\"MaterialTemplateActions1\",\"overrides\":[],\"properties\":[{\"default\":0,\"kind\":null,\"name\":\"open_modal\"},{\"default\":0,\"kind\":null,\"name\":\"close_modal\"}]}],\"roots\":{\"references\":[{\"attributes\":{\"coordinates\":null,\"data_source\":{\"id\":\"7648\"},\"glyph\":{\"id\":\"7651\"},\"group\":null,\"hover_glyph\":null,\"muted_glyph\":{\"id\":\"7653\"},\"nonselection_glyph\":{\"id\":\"7652\"},\"selection_glyph\":{\"id\":\"7656\"},\"view\":{\"id\":\"7655\"}},\"id\":\"7654\",\"type\":\"GlyphRenderer\"},{\"attributes\":{\"end\":363.18666666666667,\"reset_end\":363.18666666666667,\"reset_start\":0.0,\"tags\":[[[\"suicides_no\",\"suicides_no\",null]]]},\"id\":\"7616\",\"type\":\"Range1d\"},{\"attributes\":{\"fill_alpha\":{\"value\":0.2},\"fill_color\":{\"field\":\"sex\",\"transform\":{\"id\":\"7647\"}},\"hatch_alpha\":{\"value\":0.2},\"hatch_color\":{\"field\":\"sex\",\"transform\":{\"id\":\"7647\"}},\"line_alpha\":{\"value\":0.2},\"top\":{\"field\":\"suicides_no\"},\"width\":{\"value\":0.8},\"x\":{\"field\":\"xoffsets\"}},\"id\":\"7653\",\"type\":\"VBar\"},{\"attributes\":{},\"id\":\"7623\",\"type\":\"CategoricalScale\"},{\"attributes\":{\"factors\":[\"female\",\"male\"],\"palette\":[\"#30a2da\",\"#fc4f30\"]},\"id\":\"7647\",\"type\":\"CategoricalColorMapper\"},{\"attributes\":{},\"id\":\"7625\",\"type\":\"LinearScale\"},{\"attributes\":{\"margin\":[5,5,5,5],\"name\":\"HSpacer08842\",\"sizing_mode\":\"stretch_width\"},\"id\":\"7614\",\"type\":\"Spacer\"},{\"attributes\":{\"callback\":null,\"renderers\":[{\"id\":\"7654\"}],\"tags\":[\"hv_created\"],\"tooltips\":[[\"age\",\"@{age}\"],[\"sex\",\"@{sex}\"],[\"suicides_no\",\"@{suicides_no}\"]]},\"id\":\"7617\",\"type\":\"HoverTool\"},{\"attributes\":{\"coordinates\":null,\"group\":null,\"text\":\"Suicide cases in the Philippines by age group and sex based on suicide number Population\",\"text_color\":\"black\",\"text_font_size\":\"12pt\"},\"id\":\"7619\",\"type\":\"Title\"},{\"attributes\":{\"margin\":[5,5,5,5],\"name\":\"HSpacer08843\",\"sizing_mode\":\"stretch_width\"},\"id\":\"7673\",\"type\":\"Spacer\"},{\"attributes\":{\"below\":[{\"id\":\"7627\"}],\"center\":[{\"id\":\"7629\"},{\"id\":\"7633\"}],\"height\":300,\"left\":[{\"id\":\"7630\"}],\"margin\":[5,5,5,5],\"min_border_bottom\":10,\"min_border_left\":10,\"min_border_right\":10,\"min_border_top\":10,\"renderers\":[{\"id\":\"7654\"}],\"sizing_mode\":\"fixed\",\"title\":{\"id\":\"7619\"},\"toolbar\":{\"id\":\"7640\"},\"width\":700,\"x_range\":{\"id\":\"7615\"},\"x_scale\":{\"id\":\"7623\"},\"y_range\":{\"id\":\"7616\"},\"y_scale\":{\"id\":\"7625\"}},\"id\":\"7618\",\"subtype\":\"Figure\",\"type\":\"Plot\"},{\"attributes\":{},\"id\":\"7662\",\"type\":\"AllLabels\"},{\"attributes\":{\"axis_label\":\"Age and Gender\",\"coordinates\":null,\"formatter\":{\"id\":\"7658\"},\"group\":null,\"major_label_policy\":{\"id\":\"7659\"},\"ticker\":{\"id\":\"7628\"}},\"id\":\"7627\",\"type\":\"CategoricalAxis\"},{\"attributes\":{\"fill_alpha\":{\"value\":0.1},\"fill_color\":{\"field\":\"sex\",\"transform\":{\"id\":\"7647\"}},\"hatch_alpha\":{\"value\":0.1},\"hatch_color\":{\"field\":\"sex\",\"transform\":{\"id\":\"7647\"}},\"line_alpha\":{\"value\":0.1},\"top\":{\"field\":\"suicides_no\"},\"width\":{\"value\":0.8},\"x\":{\"field\":\"xoffsets\"}},\"id\":\"7652\",\"type\":\"VBar\"},{\"attributes\":{\"children\":[{\"id\":\"7614\"},{\"id\":\"7618\"},{\"id\":\"7673\"}],\"margin\":[0,0,0,0],\"name\":\"Row08838\",\"tags\":[\"embedded\"]},\"id\":\"7613\",\"type\":\"Row\"},{\"attributes\":{\"axis\":{\"id\":\"7627\"},\"coordinates\":null,\"grid_line_color\":null,\"group\":null,\"ticker\":null},\"id\":\"7629\",\"type\":\"Grid\"},{\"attributes\":{},\"id\":\"7635\",\"type\":\"PanTool\"},{\"attributes\":{},\"id\":\"7661\",\"type\":\"BasicTickFormatter\"},{\"attributes\":{},\"id\":\"7628\",\"type\":\"CategoricalTicker\"},{\"attributes\":{\"fill_color\":{\"field\":\"sex\",\"transform\":{\"id\":\"7647\"}},\"hatch_color\":{\"field\":\"sex\",\"transform\":{\"id\":\"7647\"}},\"top\":{\"field\":\"suicides_no\"},\"width\":{\"value\":0.8},\"x\":{\"field\":\"xoffsets\"}},\"id\":\"7651\",\"type\":\"VBar\"},{\"attributes\":{},\"id\":\"7649\",\"type\":\"Selection\"},{\"attributes\":{\"axis_label\":\"Suicides Per 100k Population Count\",\"coordinates\":null,\"formatter\":{\"id\":\"7661\"},\"group\":null,\"major_label_policy\":{\"id\":\"7662\"},\"ticker\":{\"id\":\"7631\"}},\"id\":\"7630\",\"type\":\"LinearAxis\"},{\"attributes\":{\"data\":{\"age\":[\"15-24 years\",\"25-34 years\",\"35-54 years\",\"5-14 years\",\"55-74 years\",\"75+ years\",\"15-24 years\",\"25-34 years\",\"35-54 years\",\"5-14 years\",\"55-74 years\",\"75+ years\"],\"sex\":[\"female\",\"female\",\"female\",\"female\",\"female\",\"female\",\"male\",\"male\",\"male\",\"male\",\"male\",\"male\"],\"suicides_no\":{\"__ndarray__\":\"vLu7u7vbYUCrqqqqqupSQN7d3d3dXVRAiYiIiIiIKkDe3d3d3d09QM3MzMzMzCBA7+7u7u6udECJiIiIiJhxQJqZmZmZuXJAmpmZmZmZM0CrqqqqqqpcQCIiIiIiIjhA\",\"dtype\":\"float64\",\"order\":\"little\",\"shape\":[12]},\"xoffsets\":[[\"15-24 years\",\"female\"],[\"25-34 years\",\"female\"],[\"35-54 years\",\"female\"],[\"5-14 years\",\"female\"],[\"55-74 years\",\"female\"],[\"75+ years\",\"female\"],[\"15-24 years\",\"male\"],[\"25-34 years\",\"male\"],[\"35-54 years\",\"male\"],[\"5-14 years\",\"male\"],[\"55-74 years\",\"male\"],[\"75+ years\",\"male\"]]},\"selected\":{\"id\":\"7649\"},\"selection_policy\":{\"id\":\"7670\"}},\"id\":\"7648\",\"type\":\"ColumnDataSource\"},{\"attributes\":{\"axis\":{\"id\":\"7630\"},\"coordinates\":null,\"dimension\":1,\"grid_line_color\":null,\"group\":null,\"ticker\":null},\"id\":\"7633\",\"type\":\"Grid\"},{\"attributes\":{},\"id\":\"7631\",\"type\":\"BasicTicker\"},{\"attributes\":{},\"id\":\"7636\",\"type\":\"WheelZoomTool\"},{\"attributes\":{\"source\":{\"id\":\"7648\"}},\"id\":\"7655\",\"type\":\"CDSView\"},{\"attributes\":{},\"id\":\"7634\",\"type\":\"SaveTool\"},{\"attributes\":{\"tools\":[{\"id\":\"7617\"},{\"id\":\"7634\"},{\"id\":\"7635\"},{\"id\":\"7636\"},{\"id\":\"7637\"},{\"id\":\"7638\"}]},\"id\":\"7640\",\"type\":\"Toolbar\"},{\"attributes\":{},\"id\":\"7670\",\"type\":\"UnionRenderers\"},{\"attributes\":{\"overlay\":{\"id\":\"7639\"}},\"id\":\"7637\",\"type\":\"BoxZoomTool\"},{\"attributes\":{},\"id\":\"7659\",\"type\":\"AllLabels\"},{\"attributes\":{},\"id\":\"7638\",\"type\":\"ResetTool\"},{\"attributes\":{\"factors\":[[\"15-24 years\",\"female\"],[\"15-24 years\",\"male\"],[\"25-34 years\",\"female\"],[\"25-34 years\",\"male\"],[\"35-54 years\",\"female\"],[\"35-54 years\",\"male\"],[\"5-14 years\",\"female\"],[\"5-14 years\",\"male\"],[\"55-74 years\",\"female\"],[\"55-74 years\",\"male\"],[\"75+ years\",\"female\"],[\"75+ years\",\"male\"]],\"tags\":[[[\"age\",\"age\",null],[\"sex\",\"sex\",null]]]},\"id\":\"7615\",\"type\":\"FactorRange\"},{\"attributes\":{\"bottom_units\":\"screen\",\"coordinates\":null,\"fill_alpha\":0.5,\"fill_color\":\"lightgrey\",\"group\":null,\"left_units\":\"screen\",\"level\":\"overlay\",\"line_alpha\":1.0,\"line_color\":\"black\",\"line_dash\":[4,4],\"line_width\":2,\"right_units\":\"screen\",\"syncable\":false,\"top_units\":\"screen\"},\"id\":\"7639\",\"type\":\"BoxAnnotation\"},{\"attributes\":{},\"id\":\"7658\",\"type\":\"CategoricalTickFormatter\"},{\"attributes\":{\"bottom\":{\"value\":0},\"fill_alpha\":{\"value\":1.0},\"fill_color\":{\"field\":\"sex\",\"transform\":{\"id\":\"7647\"}},\"hatch_alpha\":{\"value\":1.0},\"hatch_color\":{\"field\":\"sex\",\"transform\":{\"id\":\"7647\"}},\"hatch_scale\":{\"value\":12.0},\"hatch_weight\":{\"value\":1.0},\"line_alpha\":{\"value\":1.0},\"line_cap\":{\"value\":\"butt\"},\"line_color\":{\"value\":\"black\"},\"line_dash\":{\"value\":[]},\"line_dash_offset\":{\"value\":0},\"line_join\":{\"value\":\"bevel\"},\"line_width\":{\"value\":1},\"top\":{\"field\":\"suicides_no\"},\"width\":{\"value\":0.8},\"x\":{\"field\":\"xoffsets\"}},\"id\":\"7656\",\"type\":\"VBar\"}],\"root_ids\":[\"7613\"]},\"title\":\"Bokeh Application\",\"version\":\"2.4.3\"}};\n",
       "    var render_items = [{\"docid\":\"b9a3845f-df42-4659-b3ce-16c693ffea69\",\"root_ids\":[\"7613\"],\"roots\":{\"7613\":\"05b19aab-9861-4d3b-b616-625b21c88fcc\"}}];\n",
       "    root.Bokeh.embed.embed_items_notebook(docs_json, render_items);\n",
       "  }\n",
       "  if (root.Bokeh !== undefined && root.Bokeh.Panel !== undefined) {\n",
       "    embed_document(root);\n",
       "  } else {\n",
       "    var attempts = 0;\n",
       "    var timer = setInterval(function(root) {\n",
       "      if (root.Bokeh !== undefined && root.Bokeh.Panel !== undefined) {\n",
       "        clearInterval(timer);\n",
       "        embed_document(root);\n",
       "      } else if (document.readyState == \"complete\") {\n",
       "        attempts++;\n",
       "        if (attempts > 200) {\n",
       "          clearInterval(timer);\n",
       "          console.log(\"Bokeh: ERROR: Unable to run BokehJS code because BokehJS library is missing\");\n",
       "        }\n",
       "      }\n",
       "    }, 25, root)\n",
       "  }\n",
       "})(window);</script>"
      ],
      "text/plain": [
       ":Bars   [age,sex]   (suicides_no)"
      ]
     },
     "execution_count": 83,
     "metadata": {
      "application/vnd.holoviews_exec.v0+json": {
       "id": "7613"
      }
     },
     "output_type": "execute_result"
    }
   ],
   "source": [
    "#My Code for Letter G\n",
    "\n",
    "import pandas as pd\n",
    "import hvplot.pandas\n",
    "\n",
    "g = pd.read_csv('suicide.csv')\n",
    "g1 = g[suicide_data.country == 'Philippines'][['age','sex','suicides_no']].groupby(['age','sex']).mean()\n",
    "g1.hvplot.bar(xlabel='Age and Gender',ylabel = 'Suicides Per 100k Population Count',title= 'Suicide cases in the Philippines by age group and sex based on suicide number Population')"
   ]
  },
  {
   "cell_type": "code",
   "execution_count": 94,
   "id": "0699f20e",
   "metadata": {},
   "outputs": [
    {
     "data": {},
     "metadata": {},
     "output_type": "display_data"
    },
    {
     "data": {
      "application/vnd.holoviews_exec.v0+json": "",
      "text/html": [
       "<div id='7949'>\n",
       "  <div class=\"bk-root\" id=\"35d78ebe-36af-4e27-a7d9-85c5026c3adf\" data-root-id=\"7949\"></div>\n",
       "</div>\n",
       "<script type=\"application/javascript\">(function(root) {\n",
       "  function embed_document(root) {\n",
       "    var docs_json = {\"0c643773-1e79-40f3-a6ef-a6eb4d5d2555\":{\"defs\":[{\"extends\":null,\"module\":null,\"name\":\"ReactiveHTML1\",\"overrides\":[],\"properties\":[]},{\"extends\":null,\"module\":null,\"name\":\"FlexBox1\",\"overrides\":[],\"properties\":[{\"default\":\"flex-start\",\"kind\":null,\"name\":\"align_content\"},{\"default\":\"flex-start\",\"kind\":null,\"name\":\"align_items\"},{\"default\":\"row\",\"kind\":null,\"name\":\"flex_direction\"},{\"default\":\"wrap\",\"kind\":null,\"name\":\"flex_wrap\"},{\"default\":\"flex-start\",\"kind\":null,\"name\":\"justify_content\"}]},{\"extends\":null,\"module\":null,\"name\":\"GridStack1\",\"overrides\":[],\"properties\":[{\"default\":\"warn\",\"kind\":null,\"name\":\"mode\"},{\"default\":null,\"kind\":null,\"name\":\"ncols\"},{\"default\":null,\"kind\":null,\"name\":\"nrows\"},{\"default\":true,\"kind\":null,\"name\":\"allow_resize\"},{\"default\":true,\"kind\":null,\"name\":\"allow_drag\"},{\"default\":[],\"kind\":null,\"name\":\"state\"}]},{\"extends\":null,\"module\":null,\"name\":\"click1\",\"overrides\":[],\"properties\":[{\"default\":\"\",\"kind\":null,\"name\":\"terminal_output\"},{\"default\":\"\",\"kind\":null,\"name\":\"debug_name\"},{\"default\":0,\"kind\":null,\"name\":\"clears\"}]},{\"extends\":null,\"module\":null,\"name\":\"NotificationAreaBase1\",\"overrides\":[],\"properties\":[{\"default\":\"bottom-right\",\"kind\":null,\"name\":\"position\"},{\"default\":0,\"kind\":null,\"name\":\"_clear\"}]},{\"extends\":null,\"module\":null,\"name\":\"NotificationArea1\",\"overrides\":[],\"properties\":[{\"default\":[],\"kind\":null,\"name\":\"notifications\"},{\"default\":\"bottom-right\",\"kind\":null,\"name\":\"position\"},{\"default\":0,\"kind\":null,\"name\":\"_clear\"},{\"default\":[{\"background\":\"#ffc107\",\"icon\":{\"className\":\"fas fa-exclamation-triangle\",\"color\":\"white\",\"tagName\":\"i\"},\"type\":\"warning\"},{\"background\":\"#007bff\",\"icon\":{\"className\":\"fas fa-info-circle\",\"color\":\"white\",\"tagName\":\"i\"},\"type\":\"info\"}],\"kind\":null,\"name\":\"types\"}]},{\"extends\":null,\"module\":null,\"name\":\"Notification\",\"overrides\":[],\"properties\":[{\"default\":null,\"kind\":null,\"name\":\"background\"},{\"default\":3000,\"kind\":null,\"name\":\"duration\"},{\"default\":null,\"kind\":null,\"name\":\"icon\"},{\"default\":\"\",\"kind\":null,\"name\":\"message\"},{\"default\":null,\"kind\":null,\"name\":\"notification_type\"},{\"default\":false,\"kind\":null,\"name\":\"_destroyed\"}]},{\"extends\":null,\"module\":null,\"name\":\"TemplateActions1\",\"overrides\":[],\"properties\":[{\"default\":0,\"kind\":null,\"name\":\"open_modal\"},{\"default\":0,\"kind\":null,\"name\":\"close_modal\"}]},{\"extends\":null,\"module\":null,\"name\":\"MaterialTemplateActions1\",\"overrides\":[],\"properties\":[{\"default\":0,\"kind\":null,\"name\":\"open_modal\"},{\"default\":0,\"kind\":null,\"name\":\"close_modal\"}]}],\"roots\":{\"references\":[{\"attributes\":{\"data\":{\"suicides_no\":{\"__ndarray__\":\"q6qqqqrqPEAAAAAAAKBRQFVVVVVV9VBAVVVVVVVlUkCrqqqqqrpVQKuqqqqqOl1AVVVVVVUVWUCrqqqqqhpbQFVVVVVVFWBAAAAAAACgYkAAAAAAALBhQFVVVVVV9WJAq6qqqqqaZUCrqqqqqgpmQKuqqqqqgmlA\",\"dtype\":\"float64\",\"order\":\"little\",\"shape\":[15]},\"year\":[1992,1993,1997,1998,1999,2000,2001,2002,2003,2006,2007,2008,2009,2010,2011]},\"selected\":{\"id\":\"7985\"},\"selection_policy\":{\"id\":\"8006\"}},\"id\":\"7984\",\"type\":\"ColumnDataSource\"},{\"attributes\":{\"line_color\":\"#30a2da\",\"line_width\":2,\"x\":{\"field\":\"year\"},\"y\":{\"field\":\"suicides_no\"}},\"id\":\"7987\",\"type\":\"Line\"},{\"attributes\":{},\"id\":\"7964\",\"type\":\"BasicTicker\"},{\"attributes\":{\"line_alpha\":0.1,\"line_color\":\"#30a2da\",\"line_width\":2,\"x\":{\"field\":\"year\"},\"y\":{\"field\":\"suicides_no\"}},\"id\":\"7988\",\"type\":\"Line\"},{\"attributes\":{\"axis_label\":\"Suicides Population Count\",\"coordinates\":null,\"formatter\":{\"id\":\"7997\"},\"group\":null,\"major_label_policy\":{\"id\":\"7998\"},\"ticker\":{\"id\":\"7968\"}},\"id\":\"7967\",\"type\":\"LinearAxis\"},{\"attributes\":{},\"id\":\"7985\",\"type\":\"Selection\"},{\"attributes\":{\"axis\":{\"id\":\"7967\"},\"coordinates\":null,\"dimension\":1,\"grid_line_color\":null,\"group\":null,\"ticker\":null},\"id\":\"7970\",\"type\":\"Grid\"},{\"attributes\":{},\"id\":\"7968\",\"type\":\"BasicTicker\"},{\"attributes\":{\"source\":{\"id\":\"7984\"}},\"id\":\"7991\",\"type\":\"CDSView\"},{\"attributes\":{},\"id\":\"7973\",\"type\":\"WheelZoomTool\"},{\"attributes\":{},\"id\":\"7994\",\"type\":\"BasicTickFormatter\"},{\"attributes\":{},\"id\":\"7971\",\"type\":\"SaveTool\"},{\"attributes\":{\"line_alpha\":0.2,\"line_color\":\"#30a2da\",\"line_width\":2,\"x\":{\"field\":\"year\"},\"y\":{\"field\":\"suicides_no\"}},\"id\":\"7989\",\"type\":\"Line\"},{\"attributes\":{\"overlay\":{\"id\":\"7976\"}},\"id\":\"7974\",\"type\":\"BoxZoomTool\"},{\"attributes\":{\"line_color\":\"#30a2da\",\"line_width\":2,\"x\":{\"field\":\"year\"},\"y\":{\"field\":\"suicides_no\"}},\"id\":\"7992\",\"type\":\"Line\"},{\"attributes\":{},\"id\":\"7975\",\"type\":\"ResetTool\"},{\"attributes\":{\"below\":[{\"id\":\"7963\"}],\"center\":[{\"id\":\"7966\"},{\"id\":\"7970\"}],\"height\":300,\"left\":[{\"id\":\"7967\"}],\"margin\":[5,5,5,5],\"min_border_bottom\":10,\"min_border_left\":10,\"min_border_right\":10,\"min_border_top\":10,\"renderers\":[{\"id\":\"7990\"}],\"sizing_mode\":\"fixed\",\"title\":{\"id\":\"7955\"},\"toolbar\":{\"id\":\"7977\"},\"width\":700,\"x_range\":{\"id\":\"7951\"},\"x_scale\":{\"id\":\"7959\"},\"y_range\":{\"id\":\"7952\"},\"y_scale\":{\"id\":\"7961\"}},\"id\":\"7954\",\"subtype\":\"Figure\",\"type\":\"Plot\"},{\"attributes\":{\"coordinates\":null,\"data_source\":{\"id\":\"7984\"},\"glyph\":{\"id\":\"7987\"},\"group\":null,\"hover_glyph\":null,\"muted_glyph\":{\"id\":\"7989\"},\"nonselection_glyph\":{\"id\":\"7988\"},\"selection_glyph\":{\"id\":\"7992\"},\"view\":{\"id\":\"7991\"}},\"id\":\"7990\",\"type\":\"GlyphRenderer\"},{\"attributes\":{\"bottom_units\":\"screen\",\"coordinates\":null,\"fill_alpha\":0.5,\"fill_color\":\"lightgrey\",\"group\":null,\"left_units\":\"screen\",\"level\":\"overlay\",\"line_alpha\":1.0,\"line_color\":\"black\",\"line_dash\":[4,4],\"line_width\":2,\"right_units\":\"screen\",\"syncable\":false,\"top_units\":\"screen\"},\"id\":\"7976\",\"type\":\"BoxAnnotation\"},{\"attributes\":{\"margin\":[5,5,5,5],\"name\":\"HSpacer09217\",\"sizing_mode\":\"stretch_width\"},\"id\":\"7950\",\"type\":\"Spacer\"},{\"attributes\":{\"tools\":[{\"id\":\"7953\"},{\"id\":\"7971\"},{\"id\":\"7972\"},{\"id\":\"7973\"},{\"id\":\"7974\"},{\"id\":\"7975\"}]},\"id\":\"7977\",\"type\":\"Toolbar\"},{\"attributes\":{},\"id\":\"7997\",\"type\":\"BasicTickFormatter\"},{\"attributes\":{},\"id\":\"7959\",\"type\":\"LinearScale\"},{\"attributes\":{},\"id\":\"7995\",\"type\":\"AllLabels\"},{\"attributes\":{\"end\":2011.0,\"reset_end\":2011.0,\"reset_start\":1992.0,\"start\":1992.0,\"tags\":[[[\"year\",\"year\",null]]]},\"id\":\"7951\",\"type\":\"Range1d\"},{\"attributes\":{},\"id\":\"7998\",\"type\":\"AllLabels\"},{\"attributes\":{},\"id\":\"8006\",\"type\":\"UnionRenderers\"},{\"attributes\":{\"children\":[{\"id\":\"7950\"},{\"id\":\"7954\"},{\"id\":\"8009\"}],\"margin\":[0,0,0,0],\"name\":\"Row09213\",\"tags\":[\"embedded\"]},\"id\":\"7949\",\"type\":\"Row\"},{\"attributes\":{\"margin\":[5,5,5,5],\"name\":\"HSpacer09218\",\"sizing_mode\":\"stretch_width\"},\"id\":\"8009\",\"type\":\"Spacer\"},{\"attributes\":{\"end\":221.60000000000002,\"reset_end\":221.60000000000002,\"reset_start\":11.399999999999999,\"start\":11.399999999999999,\"tags\":[[[\"suicides_no\",\"suicides_no\",null]]]},\"id\":\"7952\",\"type\":\"Range1d\"},{\"attributes\":{\"callback\":null,\"renderers\":[{\"id\":\"7990\"}],\"tags\":[\"hv_created\"],\"tooltips\":[[\"year\",\"@{year}\"],[\"suicides_no\",\"@{suicides_no}\"]]},\"id\":\"7953\",\"type\":\"HoverTool\"},{\"attributes\":{},\"id\":\"7961\",\"type\":\"LinearScale\"},{\"attributes\":{},\"id\":\"7972\",\"type\":\"PanTool\"},{\"attributes\":{\"coordinates\":null,\"group\":null,\"text\":\"Philippine Average suicide cases from 1992-2011 based on suicide numbers\",\"text_color\":\"black\",\"text_font_size\":\"12pt\"},\"id\":\"7955\",\"type\":\"Title\"},{\"attributes\":{\"axis\":{\"id\":\"7963\"},\"coordinates\":null,\"grid_line_color\":null,\"group\":null,\"ticker\":null},\"id\":\"7966\",\"type\":\"Grid\"},{\"attributes\":{\"axis_label\":\"Year\",\"coordinates\":null,\"formatter\":{\"id\":\"7994\"},\"group\":null,\"major_label_policy\":{\"id\":\"7995\"},\"ticker\":{\"id\":\"7964\"}},\"id\":\"7963\",\"type\":\"LinearAxis\"}],\"root_ids\":[\"7949\"]},\"title\":\"Bokeh Application\",\"version\":\"2.4.3\"}};\n",
       "    var render_items = [{\"docid\":\"0c643773-1e79-40f3-a6ef-a6eb4d5d2555\",\"root_ids\":[\"7949\"],\"roots\":{\"7949\":\"35d78ebe-36af-4e27-a7d9-85c5026c3adf\"}}];\n",
       "    root.Bokeh.embed.embed_items_notebook(docs_json, render_items);\n",
       "  }\n",
       "  if (root.Bokeh !== undefined && root.Bokeh.Panel !== undefined) {\n",
       "    embed_document(root);\n",
       "  } else {\n",
       "    var attempts = 0;\n",
       "    var timer = setInterval(function(root) {\n",
       "      if (root.Bokeh !== undefined && root.Bokeh.Panel !== undefined) {\n",
       "        clearInterval(timer);\n",
       "        embed_document(root);\n",
       "      } else if (document.readyState == \"complete\") {\n",
       "        attempts++;\n",
       "        if (attempts > 200) {\n",
       "          clearInterval(timer);\n",
       "          console.log(\"Bokeh: ERROR: Unable to run BokehJS code because BokehJS library is missing\");\n",
       "        }\n",
       "      }\n",
       "    }, 25, root)\n",
       "  }\n",
       "})(window);</script>"
      ],
      "text/plain": [
       ":Curve   [year]   (suicides_no)"
      ]
     },
     "execution_count": 94,
     "metadata": {
      "application/vnd.holoviews_exec.v0+json": {
       "id": "7949"
      }
     },
     "output_type": "execute_result"
    }
   ],
   "source": [
    "#My Code for Letter H\n",
    "\n",
    "import pandas as pd\n",
    "import hvplot.pandas\n",
    "\n",
    "h = pd.read_csv('suicide.csv')\n",
    "h = h[h['country'] == 'Philippines']\n",
    "h = h[h['year'] >= 1992].groupby('year')['suicides_no'].mean()\n",
    "h.hvplot(kind='line', title='Philippine Average suicide cases from 1992-2011 based on suicide numbers', xlabel='Year', ylabel='Suicides Population Count')"
   ]
  },
  {
   "cell_type": "code",
   "execution_count": null,
   "id": "e91f42bb",
   "metadata": {},
   "outputs": [],
   "source": []
  }
 ],
 "metadata": {
  "kernelspec": {
   "display_name": "Python 3 (ipykernel)",
   "language": "python",
   "name": "python3"
  },
  "language_info": {
   "codemirror_mode": {
    "name": "ipython",
    "version": 3
   },
   "file_extension": ".py",
   "mimetype": "text/x-python",
   "name": "python",
   "nbconvert_exporter": "python",
   "pygments_lexer": "ipython3",
   "version": "3.9.13"
  }
 },
 "nbformat": 4,
 "nbformat_minor": 5
}
